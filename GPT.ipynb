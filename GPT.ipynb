{
 "cells": [
  {
   "cell_type": "markdown",
   "id": "2ca48070df5db43e",
   "metadata": {},
   "source": [
    "Tworząc ten notatnik czerpałem garściami z fenomenalnego filmu Andreja Karpathy: [Let's build GPT: from scratch, in code, spelled out.](https://www.youtube.com/watch?v=kCc8FmEb1nY&), który omawiał artykuł/badanie \"Attention is all you need\" z 2017 r.: [Attention is all you need](https://arxiv.org/pdf/1706.03762)\n",
    "\n",
    "W tym notatniku, zaczynając od podstaw, zbudujemy transformer korzystając wyłącznie z podstawowych bloków zawartych w PyTorch:\n",
    "\n",
    "- będziemy tworzyć własne moduły, dziedziczące z klasy **nn.Module**\n",
    "- oczywiście niezbędna będzie fully-connected layer: **nn.Linear**\n",
    "- potrzebna nam będzie także warstwa **nn.Dropout** do walki z overfittingiem\n",
    "\n",
    "Wszystkie bardziej skomplikowane moduły zbudujemy korzystając z wyżej wymienionych \"klocków Lego\" oraz z nieocenionego API PyTorch dotyczącego Tensorów i backpropagation.\n",
    "\n",
    "Przejdziemy przez dziewięć wersji modelu, który stopniowo będziemy zamieniać ze zwykłego look-up table prawdopodobieństw na (niemal) w pełni odpowiadający temu z \"attention is all you need\" transformer."
   ]
  },
  {
   "cell_type": "code",
   "id": "fced0524376200ab",
   "metadata": {
    "ExecuteTime": {
     "end_time": "2024-12-15T12:20:11.478467Z",
     "start_time": "2024-12-15T12:20:11.473125Z"
    }
   },
   "source": [
    "import gdown  # aby pobrać zbiór danych z dysku google\n",
    "import os.path\n",
    "\n",
    "from torch import tensor\n",
    "import torch\n",
    "import torch.nn.functional as F"
   ],
   "outputs": [],
   "execution_count": 164
  },
  {
   "cell_type": "markdown",
   "id": "f5ed096824492474",
   "metadata": {},
   "source": [
    "Zbiór danych jest dowolny tak długo, jak długo jest tekstowy. \n",
    "Na początek naszy zbiór będzie bardzo prosty - jeden plik tekstowy zawierający dzieła Szekspira."
   ]
  },
  {
   "cell_type": "markdown",
   "id": "730c919dc03341b",
   "metadata": {},
   "source": "Zbiór danych jest pobierany z mojego dysku google (jeśli nie jest już pobrany) a następnie wczytywany jako zwykły plik tekstowy"
  },
  {
   "cell_type": "code",
   "id": "initial_id",
   "metadata": {
    "collapsed": true,
    "jupyter": {
     "outputs_hidden": true
    },
    "ExecuteTime": {
     "end_time": "2024-12-15T12:20:11.536062Z",
     "start_time": "2024-12-15T12:20:11.531102Z"
    }
   },
   "source": [
    "dataset_link = \"https://drive.google.com/uc?id=1TQjhbN1jrQx7eMgySFkMfwahh7IZy2a8\"\n",
    "dataset_path = \"data/Shakespeare.txt\"\n",
    "if not os.path.isfile(dataset_path):\n",
    "    print(\"Downloading dataset...\")\n",
    "    gdown.download(dataset_link, dataset_path)\n",
    "    print(\"Done!\")\n",
    "else:\n",
    "    print(\"Dataset is already downloaded\")\n",
    "    \n",
    "with open(dataset_path, \"r\", encoding=\"utf-8\") as f:\n",
    "    whole_text = f.read()"
   ],
   "outputs": [
    {
     "name": "stdout",
     "output_type": "stream",
     "text": [
      "Dataset is already downloaded\n"
     ]
    }
   ],
   "execution_count": 165
  },
  {
   "cell_type": "code",
   "id": "ad7b1cec47a6ea4a",
   "metadata": {
    "ExecuteTime": {
     "end_time": "2024-12-15T12:20:11.607213Z",
     "start_time": "2024-12-15T12:20:11.602204Z"
    }
   },
   "source": [
    "print(f\"Length of the dataset: {len(whole_text)}\")"
   ],
   "outputs": [
    {
     "name": "stdout",
     "output_type": "stream",
     "text": [
      "Length of the dataset: 1115394\n"
     ]
    }
   ],
   "execution_count": 166
  },
  {
   "cell_type": "markdown",
   "id": "e3cf09dc6b56309c",
   "metadata": {},
   "source": [
    "\"Podejrzymy\" początek naszego zbioru danych"
   ]
  },
  {
   "cell_type": "code",
   "id": "1c2807f37ec79569",
   "metadata": {
    "ExecuteTime": {
     "end_time": "2024-12-15T12:20:11.693953Z",
     "start_time": "2024-12-15T12:20:11.690168Z"
    }
   },
   "source": [
    "print(whole_text[:1000])"
   ],
   "outputs": [
    {
     "name": "stdout",
     "output_type": "stream",
     "text": [
      "First Citizen:\n",
      "Before we proceed any further, hear me speak.\n",
      "\n",
      "All:\n",
      "Speak, speak.\n",
      "\n",
      "First Citizen:\n",
      "You are all resolved rather to die than to famish?\n",
      "\n",
      "All:\n",
      "Resolved. resolved.\n",
      "\n",
      "First Citizen:\n",
      "First, you know Caius Marcius is chief enemy to the people.\n",
      "\n",
      "All:\n",
      "We know't, we know't.\n",
      "\n",
      "First Citizen:\n",
      "Let us kill him, and we'll have corn at our own price.\n",
      "Is't a verdict?\n",
      "\n",
      "All:\n",
      "No more talking on't; let it be done: away, away!\n",
      "\n",
      "Second Citizen:\n",
      "One word, good citizens.\n",
      "\n",
      "First Citizen:\n",
      "We are accounted poor citizens, the patricians good.\n",
      "What authority surfeits on would relieve us: if they\n",
      "would yield us but the superfluity, while it were\n",
      "wholesome, we might guess they relieved us humanely;\n",
      "but they think we are too dear: the leanness that\n",
      "afflicts us, the object of our misery, is as an\n",
      "inventory to particularise their abundance; our\n",
      "sufferance is a gain to them Let us revenge this with\n",
      "our pikes, ere we become rakes: for the gods know I\n",
      "speak this in hunger for bread, not in thirst for revenge.\n",
      "\n",
      "\n"
     ]
    }
   ],
   "execution_count": 167
  },
  {
   "cell_type": "markdown",
   "id": "8a67f3b066256f4d",
   "metadata": {},
   "source": [
    "Nasz LLM, jak każda inna sieć neuronowa, operuje na liczbach. Potrzebny nam jest enkoder, który pozwoli zamienić tekst na liczby oraz dekoder, który odwróci działanie enkodera.\n",
    "\n",
    "Aby zdefiniować jakikolwiek enkoder potrzebny nam jest kompletny zbiór słownictwa. Aby zachować prostotę, ograniczymy się tutaj do pojedyńczych liter - jedna litera będzie jednym tokenem. Niemniej należy pamiętać, że w bardziej zaawansowanych modelach dużo lepiej działają tokeny składające się ze zlepków liter.\n",
    "\n",
    "Podział tekstu na tokeny jest wielkim problemem samym w sobie i nie będziemy się w niego zagłębiać w ramach tego projektu"
   ]
  },
  {
   "cell_type": "code",
   "id": "5a8a05d01d858226",
   "metadata": {
    "ExecuteTime": {
     "end_time": "2024-12-15T12:20:11.783991Z",
     "start_time": "2024-12-15T12:20:11.764535Z"
    }
   },
   "source": [
    "vocab = sorted(list(set(whole_text)))  # set zapewnia unikalność znaków, lista daje się posortować\n",
    "vocab_size = len(vocab)\n",
    "print(f\"Vocab: {\"\".join(vocab)}\")\n",
    "print(f\"Vocab len: {len(vocab)}\")"
   ],
   "outputs": [
    {
     "name": "stdout",
     "output_type": "stream",
     "text": [
      "Vocab: \n",
      " !$&',-.3:;?ABCDEFGHIJKLMNOPQRSTUVWXYZabcdefghijklmnopqrstuvwxyz\n",
      "Vocab len: 65\n"
     ]
    }
   ],
   "execution_count": 168
  },
  {
   "cell_type": "code",
   "id": "84990ece0e822902",
   "metadata": {
    "ExecuteTime": {
     "end_time": "2024-12-15T12:20:11.858490Z",
     "start_time": "2024-12-15T12:20:11.853218Z"
    }
   },
   "source": [
    "stoi = {char: i for i, char in enumerate(vocab)}\n",
    "itos = {i: char for i, char in enumerate(vocab)}\n",
    "encode = lambda s: [stoi[c] for c in s]  # zamienia string na listę liczb\n",
    "decode = lambda l: \"\".join(itos[i] for i in l)\n",
    "\n",
    "print(encode(\"Hello world!\"))\n",
    "print(decode(encode(\"Hello world!\")))"
   ],
   "outputs": [
    {
     "name": "stdout",
     "output_type": "stream",
     "text": [
      "[20, 43, 50, 50, 53, 1, 61, 53, 56, 50, 42, 2]\n",
      "Hello world!\n"
     ]
    }
   ],
   "execution_count": 169
  },
  {
   "cell_type": "markdown",
   "id": "f7555b3807b46116",
   "metadata": {},
   "source": [
    "Wczytajmy cały zbiór danych (w końcu waży tylko 1MB) do tensora"
   ]
  },
  {
   "cell_type": "code",
   "id": "a462693afc854373",
   "metadata": {
    "ExecuteTime": {
     "end_time": "2024-12-15T12:20:12.228657Z",
     "start_time": "2024-12-15T12:20:11.982703Z"
    }
   },
   "source": [
    "data = tensor(encode(whole_text))\n",
    "print(f\"{data.shape = }, {data.dtype = }\")\n",
    "print(data[:100])"
   ],
   "outputs": [
    {
     "name": "stdout",
     "output_type": "stream",
     "text": [
      "data.shape = torch.Size([1115394]), data.dtype = torch.int64\n",
      "tensor([18, 47, 56, 57, 58,  1, 15, 47, 58, 47, 64, 43, 52, 10,  0, 14, 43, 44,\n",
      "        53, 56, 43,  1, 61, 43,  1, 54, 56, 53, 41, 43, 43, 42,  1, 39, 52, 63,\n",
      "         1, 44, 59, 56, 58, 46, 43, 56,  6,  1, 46, 43, 39, 56,  1, 51, 43,  1,\n",
      "        57, 54, 43, 39, 49,  8,  0,  0, 13, 50, 50, 10,  0, 31, 54, 43, 39, 49,\n",
      "         6,  1, 57, 54, 43, 39, 49,  8,  0,  0, 18, 47, 56, 57, 58,  1, 15, 47,\n",
      "        58, 47, 64, 43, 52, 10,  0, 37, 53, 59])\n"
     ]
    }
   ],
   "execution_count": 170
  },
  {
   "cell_type": "markdown",
   "id": "6c1fad7a07d469f7",
   "metadata": {},
   "source": [
    "Podzielimy nasz zbiór danych na część treningową i testową, aby móc ocenić, na ile dobrze model uczy się ogólnych tendencji, a nie po prostu \"zapamiętuje\".  Zazwyczaj zbiory danych dzielone są losowo, tak, aby żadna z \"części\" takiego zbioru nie była słabiej reprezentowana. \n",
    "\n",
    "W tym przypadku wyciąganie wyrazów ze środka tekstu nie będzie dobrą metodą, ponieważ w analizie tekstu kluczowy jest kontekst. W związku z tym tekst zostanie \"przedzielony\" na dwie części"
   ]
  },
  {
   "cell_type": "code",
   "id": "6f320acc2ec931e1",
   "metadata": {
    "ExecuteTime": {
     "end_time": "2024-12-15T12:20:12.267558Z",
     "start_time": "2024-12-15T12:20:12.261072Z"
    }
   },
   "source": [
    "train_to_all_ratio = 0.85\n",
    "n = int(train_to_all_ratio * data.numel())\n",
    "train_data, test_data = data[:n], data[n:]\n",
    "print(f\"{len(train_data) = }, {len(test_data) = }\")"
   ],
   "outputs": [
    {
     "name": "stdout",
     "output_type": "stream",
     "text": [
      "len(train_data) = 948084, len(test_data) = 167310\n"
     ]
    }
   ],
   "execution_count": 171
  },
  {
   "cell_type": "markdown",
   "id": "98e8ec8d5cfe5748",
   "metadata": {},
   "source": [
    "Przy ćwiczeniu modeli językowych nie można podać całego zbioru danych na raz. Tekst jest podawany w losowo wybieranych blokach.\n",
    "Wielkość takiego bloku jest ustalona i jest jednocześnie **maksymalnym** rozmiarem kontekstu dostępnego dla naszego modelu. Dla każdego bloku model jest ćwiczony dla wszystkich kontekstów zaczynając od 1 a kończąc na `block_size`.\n",
    "\n",
    "Zobrazujmy to za pomocą pętli:"
   ]
  },
  {
   "cell_type": "code",
   "id": "b428450b959e3e49",
   "metadata": {
    "ExecuteTime": {
     "end_time": "2024-12-15T12:20:12.333258Z",
     "start_time": "2024-12-15T12:20:12.325582Z"
    }
   },
   "source": [
    "context_size = 7\n",
    "def show_context():\n",
    "    x = train_data[:context_size]\n",
    "    y = train_data[1:context_size + 1]  # cel jest przesunięty o 1 względem danej treningowej\n",
    "    for i in range(context_size):\n",
    "        context = x[:i+1]  # do i-tego znaku włącznie\n",
    "        target = y[i]\n",
    "        print(f\"For input {context} the target is {target}\")\n",
    "show_context()"
   ],
   "outputs": [
    {
     "name": "stdout",
     "output_type": "stream",
     "text": [
      "For input tensor([18]) the target is 47\n",
      "For input tensor([18, 47]) the target is 56\n",
      "For input tensor([18, 47, 56]) the target is 57\n",
      "For input tensor([18, 47, 56, 57]) the target is 58\n",
      "For input tensor([18, 47, 56, 57, 58]) the target is 1\n",
      "For input tensor([18, 47, 56, 57, 58,  1]) the target is 15\n",
      "For input tensor([18, 47, 56, 57, 58,  1, 15]) the target is 47\n"
     ]
    }
   ],
   "execution_count": 172
  },
  {
   "metadata": {},
   "cell_type": "markdown",
   "source": "Ćwiczenie modelu na wszystkich rozmiarach kontekstu, oprócz oczywistej zalety w postaci szybkości uzyskiwania danych (sekwencja tekstu i tak jest pozyskana), pozwala nauczyć model działania także przy krótszych kontekstach. W naszym przypadku kontekst nie będzie duży, jednak w przypadku takich modeli jak GPT-3.5 czy GPT-4 rozmiar kontekstu może wynosić nawet setki tysięcy tokenów i większość zapytań nie będzie tak długa",
   "id": "f9d04a3834305b9"
  },
  {
   "cell_type": "markdown",
   "id": "fae5eb50ed98cb76",
   "metadata": {},
   "source": [
    "Karty graficzne są bardzo dobre w zrównoleglaniu obliczeń - dlatego podczas korzystania z modeli podaje im się wiele niezależnych wartości, które są przetwarzane jednocześnie. Zbiór wszystkich takich wartości nazywany jest batchem"
   ]
  },
  {
   "cell_type": "code",
   "id": "6ec46ed5db6e8ec4",
   "metadata": {
    "ExecuteTime": {
     "end_time": "2024-12-15T12:20:12.401683Z",
     "start_time": "2024-12-15T12:20:12.394705Z"
    }
   },
   "source": [
    "batch_size = 64\n",
    "\n",
    "rng = torch.Generator()\n",
    "rng.manual_seed(42)\n",
    "\n",
    "def get_random_batch(split: str, batch_size:int, block_size: int, my_rng: torch.Generator) -> (torch.Tensor, torch.Tensor):\n",
    "    \"\"\"\n",
    "    Returns a random batch of data - tensor of shape (batch_size, block_size). \n",
    "    :param split: can be either \"train\" or \"test\". When train the train dataset is used\n",
    "    :returns: A tuple of two tensors - first with training data and second with labels/targets\n",
    "    \"\"\"\n",
    "    if split == \"train\": my_data = train_data\n",
    "    elif split == \"test\": my_data = test_data\n",
    "    else: raise ValueError(f\"Expected either `train` or `test` for the split argument, got {split} instead\")\n",
    "    idx = torch.randint(len(my_data) - block_size, size=(batch_size,), generator=my_rng)\n",
    "    # randint jest end-exclusive, dlatego nie trzeba modyfikować indeksów mimo że target jest i+1\n",
    "    x = torch.stack([data[i: i+block_size] for i in idx])\n",
    "    y = torch.stack([data[i+1: i+block_size+1] for i in idx])\n",
    "    return x, y\n",
    "\n",
    "def show_random_batch():\n",
    "    xb, yb = get_random_batch(\"train\", batch_size, context_size, rng)\n",
    "    print(f\"Data shape: {xb.shape}\")\n",
    "    print(f\"Label shape: {yb.shape}\")"
   ],
   "outputs": [],
   "execution_count": 173
  },
  {
   "cell_type": "markdown",
   "id": "6285a273e4d05265",
   "metadata": {},
   "source": [
    "Zwracam uwagę, że tutaj dane treningowe oraz targety mają ten sam kształt - dla każdego jednego znaku chcemy wiedzieć, jaki znak jest następny.\n",
    "\n",
    "Można zauważyć, że jest to niepotrzebne duplikowanie informacji, ponieważ dla wszystkich znaków oprócz ostatniego jest ona zawarta już w danych treningowych. To prawda, jednak przy ilości obliczeń wykonywanych przez transformery nie robi to zauważalnej różnicy w wydajności treningu, a kod jest bardziej czytelny"
   ]
  },
  {
   "cell_type": "markdown",
   "id": "4814a82a1df21825",
   "metadata": {},
   "source": [
    "Zaczniemy od najprostszej sieci neuronowej, czyli modelu bigramowego. \n",
    "\n",
    "Model bigramowy dla każdego tokenu zczytuje prawdopodobieństwa / logity następnego tokenu ze zwykłej lookup-table. W PyTorch jest już wbudowany moduł, który świetnie może posłużyć za taki lookup-table: torch.nn.Embedding. Obiecałem jednak budowę od podstaw, dlatego najpierw zdefiniujmy własny moduł służący jako lookup table.\n",
    "\n",
    "Zwracam jednak uwagę, że \"domowa\" implementacja warstwy Embedding jako funkcję gradientu posiada zwykłe IndexBackward.\n",
    "Warstwa nn.Embedding posiada gradient EmbeddingBackward, który jest zoptymalizowany do działań w modułach, gdzie przy każdym backward pass tylko część wag jest aktualizowana i w tym przypadku będzie dużo szybszy od zwykłego IndexBackward.\n",
    "Dlatego przy budowaniu większych modeli zalecam jednak korzystać z pracy twórców PyTorcha a nie samemu wymyślać koło od nowa."
   ]
  },
  {
   "cell_type": "code",
   "id": "ef30b3c9318137b0",
   "metadata": {
    "ExecuteTime": {
     "end_time": "2024-12-15T12:20:12.454930Z",
     "start_time": "2024-12-15T12:20:12.450965Z"
    }
   },
   "source": [
    "import torch.nn as nn\n",
    "class MyEmbedding(nn.Module):\n",
    "    def __init__(self, num_embeddings: int, one_embedding_size: int):\n",
    "        super().__init__()\n",
    "        self.weights = nn.Parameter(torch.randn((num_embeddings, one_embedding_size), dtype=torch.float))\n",
    "        \n",
    "    def forward(self, input_indices):\n",
    "        return self.weights[input_indices]    "
   ],
   "outputs": [],
   "execution_count": 174
  },
  {
   "cell_type": "markdown",
   "id": "3004579a2239a1a0",
   "metadata": {},
   "source": [
    "Zbudujmy teraz nasz model bigramowy. Działanie tego modelu jest bardzo proste - dla każdego z tokenów w słowniku w warstwie Embedding (która jest stworzona do czegoś zupełnie innego, ale świetnie się nadaje też do naszych celów) przechowywane są logity wszystkich pozostałych tokenów. Dlatego \"predykcja\" z wykorzystaniem takiej sieci to zwykłe odczytanie z wielkiej tablicy prawdopodobieństw który token wybrać jako następny"
   ]
  },
  {
   "cell_type": "code",
   "id": "2063475a0fa5958b",
   "metadata": {
    "ExecuteTime": {
     "end_time": "2024-12-15T12:20:17.802200Z",
     "start_time": "2024-12-15T12:20:12.504916Z"
    }
   },
   "source": [
    "class BigramModel(nn.Module):\n",
    "    def __init__(self, vocab_size: int):\n",
    "        super().__init__()\n",
    "        self.embedding_table = MyEmbedding(vocab_size, vocab_size)\n",
    "        \n",
    "    def forward(self, input_indices):\n",
    "        \"\"\"Przyjmuje tensor o wymiarach (*) i zwraca odczytany z lookup-table tensor o wymiarach (*, one_embedding_size)\"\"\"\n",
    "        logits = self.embedding_table(input_indices)\n",
    "        return logits\n",
    "    \n",
    "    def generate(self, current_context: torch.Tensor, max_new_tokens: int):\n",
    "        \"\"\"\n",
    "        Metoda przyjmuje kontekst i na jego podstawie generuje `max_new_tokens` nowych tokenów.\n",
    "        :param current_context: Tensor o wymiarach (Batch, czas) gdzie 'czas' to kolejne znaki kontekstu\n",
    "        :return: Tensor o wymiarach (Batch, czas + max_new_tokens) zawierający podany kontekst, a do niego \"doklejoną\"\n",
    "            wygenerowaną treść\n",
    "        \"\"\"\n",
    "        for _ in range(max_new_tokens):\n",
    "            logits = self(current_context) # (batch, czas, embedding_dim)\n",
    "            # do predykcji wykorzystujemy tylko ostatni token kontekstu, więc wybieramy tylko ostatnią wartość wymiaru czas\n",
    "            # (wybaczcie brak lepszej nazwy)\n",
    "            logits = logits[:, -1, :]  \n",
    "            # korzystając z softmaxu zamieniamy ostatni wymiar logitów na rozkład prawdopodobieństwa\n",
    "            probabilities = F.softmax(logits, dim=-1)  \n",
    "            # po zamianie na rozkład prawdopodobieństwa losujemy wartość z tego rozkładu\n",
    "            idx_next = torch.multinomial(probabilities, num_samples=1)\n",
    "            current_context = torch.cat((current_context, idx_next), dim=1) # (Batch, czas + 1)\n",
    "        return current_context\n",
    "   \n",
    "model = BigramModel(vocab_size=vocab_size)\n",
    "         \n",
    "train_older_models = input(\"Do you want to train all model versions [Y]. If not, then only the newest model will be trained\"\n",
    "                           \"and evaluated\")\n",
    "train_older_models = True if train_older_models.lower() == \"y\" else False\n",
    "if train_older_models is True:\n",
    "    xb, yb = get_random_batch(\"train\", batch_size, context_size, rng)\n",
    "    simple_output = model(xb)\n",
    "    print(f\"Input shape: {xb.shape}  output shape: {simple_output.shape}\")\n",
    "    generated_output = model.generate(xb, 100)[0].cpu()\n",
    "    print(f\"Generated 100 new tokens, output shape: {generated_output.shape}\")\n",
    "    print(20*\"-\" + \"\\n\" + f\"Generated text: {decode(generated_output.tolist())}\")"
   ],
   "outputs": [
    {
     "name": "stdout",
     "output_type": "stream",
     "text": [
      "Input shape: torch.Size([64, 7])  output shape: torch.Size([64, 7, 65])\n",
      "Generated 100 new tokens, output shape: torch.Size([107])\n",
      "--------------------\n",
      "Generated text: to see EJ$ Fxet&cmVWBsaGH$krbep BwmPSVhHp\n",
      "oQvVzkFxQxHLtP!GdLWu&ZomlLpp3bc,n:orq,Fp&P'N'KS3uQtRzEJX,Qxz'CFFt\n"
     ]
    }
   ],
   "execution_count": 175
  },
  {
   "cell_type": "markdown",
   "id": "979f06de28700ba0",
   "metadata": {},
   "source": [
    "Jak widać na początku nasz model generuje znaki całkowicie losowo i jedyną częścią tego tekstu, która ma jakikolwiek sens, jest zapodany przez nas na początku kontekst"
   ]
  },
  {
   "cell_type": "markdown",
   "id": "4481457fbe40533c",
   "metadata": {},
   "source": [
    "Jeżeli to możliwe, przenieśmy nasz model na kartę graficzną, znacznie to przyspieszy trening"
   ]
  },
  {
   "cell_type": "code",
   "id": "f6a4896be89dc6e2",
   "metadata": {
    "ExecuteTime": {
     "end_time": "2024-12-15T12:20:17.852175Z",
     "start_time": "2024-12-15T12:20:17.846359Z"
    }
   },
   "source": [
    "device = \"cuda\" if torch.cuda.is_available() else \"cpu\"\n",
    "data = data.to(device)\n",
    "if train_older_models is True:\n",
    "    model = model.to(device)\n"
   ],
   "outputs": [],
   "execution_count": 176
  },
  {
   "cell_type": "markdown",
   "id": "9a1d8f44d3439e19",
   "metadata": {},
   "source": [
    "Nasz model jest już gotowy do treningu, stwórzmy teraz optimizer oraz przećwiczmy nasz model.\n",
    "\n",
    "Z perspektywy autorów \"Attention is all you need\" zajrzymy w przyszłość i wykorzystamy optimizer AdamW, wprowadzony po raz pierwszy w 2019 roku w artykule \"Decoupled weight decay regularization\". Różni się od podstawowego Adam-a tym, że rozdziela weight decay od obliczanego gradientu, zamiast tego jest stosowany bezpośrednio na wagach. Lepiej od zwykłego Adama radzi sobie z generalizowaniem i jest obecnie standardowym go-to w wielu modelach językowych.\n",
    "\n",
    "Utworzymy także funkcję evaluate_model(), która będzie oceniała model zarówno na danych treningowych, jak i testowych.\n",
    "Porównanie wyników z danych treningowych i testowych pozwoli wychwycić moment, w którym model zacznie się przetrenowywać."
   ]
  },
  {
   "cell_type": "code",
   "id": "414a679af640748e",
   "metadata": {
    "ExecuteTime": {
     "end_time": "2024-12-15T12:20:21.533409Z",
     "start_time": "2024-12-15T12:20:17.874135Z"
    }
   },
   "source": [
    "@torch.no_grad()\n",
    "def evaluate_model(m, split: str, n_samples: int) -> float:\n",
    "    xb, yb = get_random_batch(split, n_samples, context_size, rng)\n",
    "    m.eval()\n",
    "    logits = m(xb)\n",
    "    logits = logits.view(batch_size * context_size, vocab_size)\n",
    "    yb = yb.view(batch_size * context_size)\n",
    "    loss = F.cross_entropy(logits, yb)\n",
    "    m.train()\n",
    "    return loss.item()\n",
    "\n",
    "def train_model(m, n_iter, context_size=context_size):\n",
    "    optimizer = torch.optim.AdamW(m.parameters(), lr=0.001)\n",
    "    for i in range(n_iter):\n",
    "        xb, yb = get_random_batch(\"train\", batch_size, context_size, rng)\n",
    "        logits = m(xb)\n",
    "        # musimy nieco zmienić kształt, ponieważ funkcja cross_entropy oczekuje kształtu (Batch, Channels) dla Inputu oraz (Batch,) dla Targetu\n",
    "        # obecnie nasz input ma kształt (Batch, context_size, embedding_dim) a target (Batch, context_size). Musimy złączyć wymiary Batch oraz context w jeden\n",
    "        logits = logits.view(batch_size * context_size, vocab_size)\n",
    "        yb = yb.view(batch_size * context_size)\n",
    "        loss = F.cross_entropy(logits, yb)\n",
    "        optimizer.zero_grad()\n",
    "        loss.backward()\n",
    "        optimizer.step()\n",
    "        if i  % (n_iter // 10) == 0:\n",
    "            train_loss = evaluate_model(m, \"train\", batch_size)\n",
    "            test_loss = evaluate_model(m, \"test\", batch_size)\n",
    "            print(f\"Iteration {i + 1} train loss: {train_loss:.3f} | test loss: {test_loss:.3f}\")\n",
    "        elif i == n_iter - 1:\n",
    "            train_loss = evaluate_model(m, \"train\", batch_size)\n",
    "            test_loss = evaluate_model(m, \"test\", batch_size)\n",
    "            print(f\"Final iteration train loss: {train_loss:.3f} | test loss: {test_loss:.3f}\")\n",
    "if train_older_models is True:\n",
    "    train_model(model, 1_000)"
   ],
   "outputs": [
    {
     "name": "stdout",
     "output_type": "stream",
     "text": [
      "Iteration 1 train loss: 4.747 | test loss: 4.692\n",
      "Iteration 101 train loss: 4.541 | test loss: 4.665\n",
      "Iteration 201 train loss: 4.433 | test loss: 4.449\n",
      "Iteration 301 train loss: 4.436 | test loss: 4.337\n",
      "Iteration 401 train loss: 4.256 | test loss: 4.271\n",
      "Iteration 501 train loss: 4.237 | test loss: 4.235\n",
      "Iteration 601 train loss: 4.027 | test loss: 4.060\n",
      "Iteration 701 train loss: 3.953 | test loss: 4.004\n",
      "Iteration 801 train loss: 3.835 | test loss: 3.879\n",
      "Iteration 901 train loss: 3.855 | test loss: 3.753\n",
      "Final iteration train loss: 3.738 | test loss: 3.660\n"
     ]
    }
   ],
   "execution_count": 177
  },
  {
   "cell_type": "markdown",
   "id": "b00b7c8f2f9f21f8",
   "metadata": {},
   "source": [
    "Spróbujmy teraz wygenerować coś z naszego modelu"
   ]
  },
  {
   "cell_type": "code",
   "id": "13fbc2ada6c6f605",
   "metadata": {
    "ExecuteTime": {
     "end_time": "2024-12-15T12:20:21.625043Z",
     "start_time": "2024-12-15T12:20:21.556309Z"
    }
   },
   "source": [
    "if train_older_models is True:\n",
    "    generated_output = model.generate(current_context=torch.zeros((1, 1), dtype=torch.long, device=device), max_new_tokens=200)\n",
    "    # zero odpowiada znakowi '\\n'\n",
    "    print(decode(generated_output.squeeze().tolist()))"
   ],
   "outputs": [
    {
     "name": "stdout",
     "output_type": "stream",
     "text": [
      "\n",
      "UzSTNGlV;IagssuVz;HgzSs$OHY??veu Jgm'bohVSjQN'QI, n!$UQ&r\n",
      "ACEDnTQvefZW-\n",
      "Saxf\n",
      "uPrimV.vSeXrc?i:K.ppGCWa?Yedk;zeFFuQT,rcMTujWEJSUenTuN.YOTDpeeu hciidKlunoX,?epueeWuQTy-\n",
      "x:zeePfGU. hyuQSco m;E, iRGzcoAad \n"
     ]
    }
   ],
   "execution_count": 178
  },
  {
   "cell_type": "markdown",
   "id": "d3a692a4ea5feefd",
   "metadata": {},
   "source": [
    "Efekty są znacznie lepsze niż poprzednim razem, prawda? Teraz wygląda to jak tekst, tylko te litery... Zupełnie jakby im brakowało znaczenia.\n",
    "Nasz bigramowy model przy generowaniu patrzy tylko na jeden ostatni token więc nie jest w stanie uchwycić znaczenia tego, co \"czyta\" ani tego, co generuje.\n",
    "Jak na razie jedyne co robi to wychwytuje zależności probabilistyczne występowania kolejnych tokenów po sobie. Niemniej, dobry początek!"
   ]
  },
  {
   "cell_type": "markdown",
   "id": "7a1105b2bd358d97",
   "metadata": {},
   "source": []
  },
  {
   "cell_type": "code",
   "id": "35e0ae9538dd2d05",
   "metadata": {
    "ExecuteTime": {
     "end_time": "2024-12-15T12:20:21.650534Z",
     "start_time": "2024-12-15T12:20:21.647771Z"
    }
   },
   "source": [],
   "outputs": [],
   "execution_count": null
  },
  {
   "cell_type": "markdown",
   "id": "3adbeb199c501bd0",
   "metadata": {},
   "source": [
    "W tym momencie na scenę wkracza najważniejszy mechanizm, który odróżnia GPT od zwykłej sieci neuronowej przetwarzającej tekst: mechanizm uwagi. Wprowadzony w 2017 r. przez google w \"Attention is all you need\" pozwala na wychwycenie znaczenia słów w zależności od kontekstu, w którym się znajdują. Wcześniej dla zwykłych modeli językowych, tak jak dla naszego pierwszego BigramModelu, było to całkowicie nieosiągalne.\n",
    "\n",
    "Każdy token oprócz swojego embeddingu ma przypisane trzy wektory: **key, query oraz value**. \n",
    "- **Query** określa, czego \"szuka\" dany token, czyli połączenia z jakimi innymi tokenami są dla niego \"interesujące\". \n",
    "- **Key** określa, co ten token w sobie zawiera, na podstawie klucza inne tokeny stwierdzają, czy ten token jest dla nich \"interesujący\" czy nie. \n",
    "- **Value** z kolei określa, co ten token zakomunikuje innym tokenom, jeżeli uznają jego Key za \"interesujący\". \n",
    "\n",
    "Kluczem do uzyskania affinities, czyli związków między tokenami, jest w jakiś sposób połączenie tych trzech wartości.\n",
    "Po bardziej wyczerpujące wyjaśnienie jeszcze raz odsyłam do fenomenalnego filmu Andreja Karpathy, w szczególności do fragmentu opowiadającego właśnie o atencji (link z time-stampem): https://youtu.be/kCc8FmEb1nY?si=ffISZXoTpbbppR7q&t=3618\n",
    "\n",
    "Oraz do naprawdę fantastycznej (żaden epitet w pełni nie odda tego, jak wspaniałe są to filmy) serii 3Blue1Brown o sieciach neuronowych: [Neural networks course](https://youtube.com/playlist?list=PLZHQObOWTQDNU6R1_67000Dx_ZCJB-3pi&si=PeBl0A8S2d0OhVox) , w której ostatnie trzy odcinki są właśnie o transformerach\n",
    "\n",
    "Zanim zaimplementujemy to w modelu, przedstawmy mechanizm uwagi, a w zasadzie to auto-uwagi (self-attention) na jednym przykładowym tensorze:"
   ]
  },
  {
   "cell_type": "code",
   "id": "ffdd0e6d69501b79",
   "metadata": {
    "ExecuteTime": {
     "end_time": "2024-12-15T12:20:21.697535Z",
     "start_time": "2024-12-15T12:20:21.694573Z"
    }
   },
   "source": [],
   "outputs": [],
   "execution_count": null
  },
  {
   "cell_type": "code",
   "id": "85d5a436172cb0c6",
   "metadata": {
    "ExecuteTime": {
     "end_time": "2024-12-15T12:20:21.759556Z",
     "start_time": "2024-12-15T12:20:21.744673Z"
    }
   },
   "source": [
    "def self_attention_example(): \n",
    "    # noinspection PyPep8Naming\n",
    "    B, T, C = 4, 7, 32  # batch, czas - kontekst, channels - wymiar embeddingu\n",
    "    my_rng = torch.Generator()\n",
    "    my_rng.manual_seed(42)\n",
    "    x = torch.randn(B, T, C, generator=my_rng)\n",
    "    \n",
    "    head_size = 16\n",
    "    key = nn.Linear(C, head_size, bias=False)\n",
    "    query = nn.Linear(C, head_size, bias=False)\n",
    "    value = nn.Linear(C, head_size, bias=False)\n",
    "    \n",
    "    # do tego momentu nie było żadnej komunikacji między tokenami, warstwy Linear operują tylko na ostatnim wymiarze, czyli embeddingach\n",
    "    \n",
    "    k = key(x) # (B, T, head_size)\n",
    "    q = query(x) # (B, T, head_size)\n",
    "    v = value(x) # (B, T, head_size)\n",
    "    \n",
    "    # Łączymy Keys oraz Queries (teraz już Tensory, nie pojedyńcze wektory) w jedną macierz (Tensor). Aby to osiągnąć, mnożymy macierzowo q @ k.T.\n",
    "    # Dzięki temu mnożeniu w otrzymanej macierzy duża wartość w wyrazie [i,j] oznacza, że token i uważa token j za interesujący, \n",
    "    # czyli token i przyłoży dużą wagę do wartości Value tokenu j.  (Disclaimer, 3B1B składa tę macierz odwrotnie!)\n",
    "    wei = q @ k.transpose(-1, -2)  # musimy transponować macierze kluczy, aby wymiary zgadzały się do mnożenia macierzowego\n",
    "    # (B, T, head_size) @ (B, head_size, T) --> (B, T, T)\n",
    "    \n",
    "    tril = torch.tril(torch.ones_like(wei))  # macierze wypełnione jedynkami na przekątnej i poniżej, a zerami powyżej przekątnej\n",
    "    # Wszystko powyżej przekątnej przyjmuje wartość -inf. Dzięki temu tokeny 'z przyszłości' nie będą miały żadnego wpływu na 'obecne' tokeny\n",
    "    wei = wei.masked_fill(tril == 0, float(\"-inf\"))  \n",
    "    wei = F.softmax(wei, dim=-1)  # normalizujemy ostatni wymiar, aby wszystkie rzędy sumowały się do 1\n",
    "    \n",
    "    # uzyskujemy efekt poprzez przemnożenie macierzy wei (czyli iloczynu Queries oraz Keys) z wektorami Values\n",
    "    out = wei @ v # (B, T, T) @ (B, T, head_size) --> (B, T, head_size)  \n",
    "    # po przejściu przez atencję w zmienia się tylko ostatni wymiar tensora - staje się head_size\n",
    "    print(out.shape)\n",
    "self_attention_example()"
   ],
   "outputs": [
    {
     "name": "stdout",
     "output_type": "stream",
     "text": [
      "torch.Size([4, 7, 16])\n"
     ]
    }
   ],
   "execution_count": 179
  },
  {
   "attachments": {
    "2039539b-42ff-4a1f-a8ca-3a2a0b2a2647.png": {
     "image/png": "[encoded data removed]"
    }
   },
   "cell_type": "markdown",
   "id": "b1178854fd9379ac",
   "metadata": {},
   "source": [
    "Opisane tutaj operacje można przedstawić na jednym obrazku (zaczerpniętym, a jakże, z \"attention is all you need\")\n",
    "\n",
    "![image.png](attachment:2039539b-42ff-4a1f-a8ca-3a2a0b2a2647.png)\n",
    "\n",
    "Uwagi:\n",
    "\n",
    "- Zwracam uwagę, że tutaj nie ma pojęcia przestrzeni i wzajemnego położenia, atencja po prostu działa na zbiorze wektorów. Dlatego istotne jest zastosowanie także embeddingu pozycyjnego poszczególnych tokenów.\n",
    "- Uzyskaliśmy tutaj decoder attention block. To oznacza, że przyszłe tokeny nie mogą wpływać na przeszłe. Po usunięciu działania `tril` uzyskamy encoder attention block, w którym każdy token może wpłynąć na każdy token.\n",
    "- \"auto-uwaga\" oznacza, że Keys oraz Values są produkowane z tego samego źródła co Queries. Nie zawsze tak jest, wtedy mówi się o \"cross-attention\". Autorzy Sami Wiecie Którego badania używali transformera zarówno z self, jak i cross attention. Niemniej w tym notatniku ograniczymy się tylko do self-attention.\n",
    "- Patrząc na powyższy obrazek widac, że względem atencji opisanej w \"Attention is all you need\" brakuje nam jednej istotnej rzeczy: skalowania, czyli podzielenia `wei` przez pierwiastek z `head_size`. Jeżeli tego dzielenia zabraknie, to dla dużych head_size mnożenie Queries @ Keys będzie wytwarzało macierze z dużymi wartościami bezwzględnymi. To oznacza, że zastosowanie softmaxu będzie zbiegało do wektorów one-hot a jest to zjawisko bardzo niepożądane, ponieważ oznacza spychanie na dalszy plan części tokenów.\n",
    "- Chcę także zwrócić uwagę na jeden szczegół: na wymiar Tensora wei. Jego ostatnie dwa wymiary to macierz o wymiarach kontekst X kontekst. To oznacza, że liczba obliczeń wykonywanych w ramach mechanizmu uwagi rośnie kwadratowo wraz ze wzrostem rozmiaru kontekstu! Jest to strasznie nieskalowalne i z tego powodu dla wielu modeli to właśnie rozmiar kontekstu jest wąskim gardłem.\n",
    "\n"
   ]
  },
  {
   "cell_type": "markdown",
   "id": "66c0b405e5a623df",
   "metadata": {},
   "source": [
    "Zaimplementujmy teraz to w postaci Modułu, aby można było korzystać z tego w budowaniu sieci neuronowych. Posługując się terminologią z \"Attention is all you need\", budujemy teraz jedną Head of Attention (dokładniej to self-attention)."
   ]
  },
  {
   "cell_type": "code",
   "id": "a7b78739deb4260d",
   "metadata": {
    "ExecuteTime": {
     "end_time": "2024-12-15T12:20:21.815189Z",
     "start_time": "2024-12-15T12:20:21.809353Z"
    }
   },
   "source": [
    "from math import sqrt\n",
    "class Head(nn.Module):\n",
    "    def __init__(self, embedding_size, head_size, context_size):\n",
    "        super().__init__()\n",
    "        self.sqrt_head_size = sqrt(head_size)\n",
    "        self.keys = nn.Linear(embedding_size, head_size, bias=False)\n",
    "        self.queries = nn.Linear(embedding_size, head_size, bias=False)\n",
    "        self.values = nn.Linear(embedding_size, head_size, bias=False)\n",
    "        # wykorzystujemy register_buffer, aby jednocześnie zapisać ten Tensor w modelu i wykluczyć go z optymalizacji podczas treningu\n",
    "        self.register_buffer(\"tril\", torch.tril(torch.ones(context_size, context_size))) \n",
    "        \n",
    "    def forward(self, x):\n",
    "        k = self.keys(x)\n",
    "        q = self.queries(x)\n",
    "        wei = q @ k.transpose(-1, -2)\n",
    "        # przed wykonaniem softmaxu skalujemy dzieląc przez pierwiastek z head_size\n",
    "        wei = wei / self.sqrt_head_size\n",
    "        wei = wei.masked_fill(self.tril == 0, float(\"-inf\"))  \n",
    "        wei = F.softmax(wei, dim=-1)\n",
    "        \n",
    "        v = self.values(x)\n",
    "        out = wei @ v\n",
    "        return out\n",
    "        "
   ],
   "outputs": [],
   "execution_count": 180
  },
  {
   "cell_type": "markdown",
   "id": "e7c5c4ab54412de5",
   "metadata": {},
   "source": [
    "Zmodyfikujmy nieco nasz model. Teraz będziemy korzystać z faktycznych Embeddingów - każdy z tokenów będziemy zamieniać na zbiór liczb, które docelowo mają reprezentować jego znaczenie. Tutaj już skorzystamy z warstwy nn.Embedding, aby nie spowalniać treningu. \n",
    "\n",
    "Zamiana tokenu na zbiór liczb (który niekoniecznie jest takiego wymiaru jak całe słownictwo, zazwyczaj jest dużo mniejszy!) oznacza, że samo spojrzenie w lookup-table nie będzie już nam zapewniało logitów / prawdopodobieństw. To oznacza, że za warstwą nn.Embedding trzeba umieścić warstwę liniową, która zamieni embedding tokenu na faktyczne logity. Nazwiemy ją model_head.\n"
   ]
  },
  {
   "cell_type": "code",
   "id": "6594d3515446f9e3",
   "metadata": {
    "ExecuteTime": {
     "end_time": "2024-12-15T12:20:21.893472Z",
     "start_time": "2024-12-15T12:20:21.887306Z"
    }
   },
   "source": [
    "class BigramModel2(nn.Module):\n",
    "    def __init__(self, n_embd: int, vocab_size: int, head_size: int):\n",
    "        super().__init__()\n",
    "        self.token_embedding_table = nn.Embedding(vocab_size, n_embd)\n",
    "        self.position_embedding_table = nn.Embedding(context_size, n_embd)\n",
    "        self.self_attention_head = Head(n_embd, head_size, context_size=context_size)\n",
    "        self.model_head = nn.Linear(head_size, vocab_size)\n",
    "        \n",
    "    def forward(self, input_indices):\n",
    "        B, T = input_indices.shape\n",
    "        token_emb = self.token_embedding_table(input_indices) # B, T, C\n",
    "        pos_emb = self.position_embedding_table(torch.arange(T, device=device)) # T, C\n",
    "        # automatyczny broadcasting pozwala dodać tensory (B,T,C) i (T,C)\n",
    "        x = token_emb + pos_emb\n",
    "        # przeprowadzamy self-attention\n",
    "        x = self.self_attention_head(x)\n",
    "        # zamieniamy embeddingi na logity\n",
    "        logits = self.model_head(x)\n",
    "        return logits\n",
    "         \n",
    "    def generate(self, current_context: torch.Tensor, max_new_tokens: int):\n",
    "        \"\"\"\n",
    "        Metoda przyjmuje kontekst i na jego podstawie generuje `max_new_tokens` nowych tokenów.\n",
    "        :param current_context: Tensor o wymiarach (Batch, czas) gdzie 'czas' to kolejne znaki kontekstu\n",
    "        :return: Tensor o wymiarach (Batch, czas + max_new_tokens) zawierający podany kontekst, a do niego \"doklejoną\"\n",
    "            wygenerowaną treść\n",
    "        \"\"\"\n",
    "        for _ in range(max_new_tokens):\n",
    "            # korzystamy z tabeli Embeddingów, więc musimy podać co najwyżej ostatnie context_size znaków\n",
    "            logits = self(current_context[:, -context_size:])\n",
    "            logits = logits[:, -1, :]  \n",
    "            probabilities = F.softmax(logits, dim=-1)  \n",
    "            idx_next = torch.multinomial(probabilities, num_samples=1)\n",
    "            current_context = torch.cat((current_context, idx_next), dim=1) # (Batch, czas + 1)\n",
    "        return current_context\n",
    "            "
   ],
   "outputs": [],
   "execution_count": 181
  },
  {
   "cell_type": "markdown",
   "id": "a597f60a87d7fa80",
   "metadata": {},
   "source": [
    "Spróbujmy wygenerować coś z naszego, teraz już wykorzystującego self-attention, modelu:"
   ]
  },
  {
   "cell_type": "code",
   "id": "8ac53a9975172e90",
   "metadata": {
    "ExecuteTime": {
     "end_time": "2024-12-15T12:20:36.986753Z",
     "start_time": "2024-12-15T12:20:21.932427Z"
    }
   },
   "source": [
    "def try_model_generation(model_class, n_embd = 32, train_iterations=2500, context_size=7):\n",
    "    \n",
    "    model_instance = model_class(vocab_size=vocab_size, n_embd=n_embd, head_size=18)\n",
    "    model_instance = model_instance.to(device)\n",
    "    xb, _ = get_random_batch(\"train\", batch_size, context_size, rng)\n",
    "    xb = xb.to(device)\n",
    "    train_model(model_instance, train_iterations, context_size=context_size)\n",
    "    generated_output = model_instance.generate(xb, 500)[0].cpu()\n",
    "    print(2 * \"\\n\")\n",
    "    print(f\"Generated 500 new tokens, output shape: {generated_output.shape}\")\n",
    "    print(20*\"-\" + \"\\n\" + f\"Generated text: {decode(generated_output.tolist())}\")   \n",
    "    \n",
    "if train_older_models is True:\n",
    "    try_model_generation(BigramModel2)"
   ],
   "outputs": [
    {
     "name": "stdout",
     "output_type": "stream",
     "text": [
      "Iteration 1 train loss: 4.267 | test loss: 4.261\n",
      "Iteration 251 train loss: 2.959 | test loss: 2.865\n",
      "Iteration 501 train loss: 2.654 | test loss: 2.688\n",
      "Iteration 751 train loss: 2.626 | test loss: 2.575\n",
      "Iteration 1001 train loss: 2.643 | test loss: 2.485\n",
      "Iteration 1251 train loss: 2.533 | test loss: 2.491\n",
      "Iteration 1501 train loss: 2.539 | test loss: 2.430\n",
      "Iteration 1751 train loss: 2.438 | test loss: 2.400\n",
      "Iteration 2001 train loss: 2.398 | test loss: 2.425\n",
      "Iteration 2251 train loss: 2.546 | test loss: 2.405\n",
      "Final iteration train loss: 2.404 | test loss: 2.333\n",
      "\n",
      "\n",
      "\n",
      "Generated 500 new tokens, output shape: torch.Size([507])\n",
      "--------------------\n",
      "Generated text: se reel ho apn:\n",
      "BAy ye, moom othes the vold aces't\n",
      "CENV--ZIGKome to e:\n",
      "s, hun m'd ve st dlde ballkig ll,\n",
      "Reantheas thereaee, you fgrit te ind yo ly rd,\n",
      "Whanghrender thorplis ave I as\n",
      "bicer gposrtith ia kesh!\n",
      "Band\n",
      "Bennd ald\n",
      "Nod SI: nli wipnd--h'shtu ghe the ssepren heratourpril:\n",
      "Ave hancilor and hs?\n",
      "Bel,\n",
      "by sans hangat\n",
      "RUUSuge ansowt o'd hond bo che try iofrot Mind the ser mo jrore chad, owuy hiot, and busme det, nt fre the sothe toust, whiniloryiendd, ssot mary ENNILI:\n",
      "Tatha beay her'seave nne en ilr:\n",
      "\n"
     ]
    }
   ],
   "execution_count": 182
  },
  {
   "cell_type": "markdown",
   "id": "be8ab79a1a672749",
   "metadata": {},
   "source": [
    "Widać pewien postęp... teraz ten tekst układem nieco przypomina faktycznego Szekspira. Jednak to nadal \"nie jest to\". Nasza Atencja na pewno przynosi \"jakieś\" efekty, jednak aby uzyskać sensowny tekst czeka nas jeszcze wiele pracy.\n",
    "\n",
    "W \"Attention is all you need\" też zauważono, że jest to zbyt mało. Dlatego to, co teraz zbudowaliśmy, czyli Head of Attention, to tylko blok, taki klocek Lego, z których zbudowano MultiHeadAttention. Polega to na równoległym wykonaniu wielu takich atencji jak ta powyżej, w self_attention_example(), i złączenie ich rezultatów.\n",
    "\n",
    "Stwórzmy teraz Moduł, który zawiera wiele pojedyńczych \"głów\" (nie wiem jak lepiej to przetłumaczyć) i w metodzie forward() złączmy wyniki z każdej pojedyńczej głowy"
   ]
  },
  {
   "cell_type": "code",
   "id": "986c1240c19e8581",
   "metadata": {
    "ExecuteTime": {
     "end_time": "2024-12-15T12:20:37.013222Z",
     "start_time": "2024-12-15T12:20:37.009326Z"
    }
   },
   "source": [
    "class MultiHeadedAttention(nn.Module):\n",
    "    def __init__(self, embedding_size:int, head_size: int, context_size: int, num_heads: int):\n",
    "        super().__init__()\n",
    "        self.heads = nn.ModuleList([Head(embedding_size, head_size, context_size) for _ in range(num_heads)])\n",
    "        \n",
    "    def forward(self,x):\n",
    "        # łączymy rezultaty w ostatnim wymiarze. Tworząc wiele głów, na przykład 4, zmniejszamy proporcjonalnie wymiar\n",
    "        # każdej z nich. Wtedy łącząc ich rezultaty w ostatnim wymiarze uzyskamy taki sam wymiar jak przy pojedyńczej Head\n",
    "        return torch.cat([single_head(x) for single_head in self.heads], dim=-1)"
   ],
   "outputs": [],
   "execution_count": 183
  },
  {
   "cell_type": "markdown",
   "id": "dc89a7c7065f0a6e",
   "metadata": {},
   "source": [
    "Zaimplementujmy to w kolejnej generacji naszego modelu:"
   ]
  },
  {
   "cell_type": "code",
   "id": "cd3b3563c437de0e",
   "metadata": {
    "ExecuteTime": {
     "end_time": "2024-12-15T12:21:00.774816Z",
     "start_time": "2024-12-15T12:20:37.041693Z"
    }
   },
   "source": [
    "class BigramModel3(nn.Module):\n",
    "    def __init__(self, n_embd: int, vocab_size: int, head_size: int):\n",
    "        super().__init__()\n",
    "        self.token_embedding_table = nn.Embedding(vocab_size, n_embd)\n",
    "        self.position_embedding_table = nn.Embedding(context_size, n_embd)\n",
    "        how_many_heads = 4\n",
    "        single_head_size = head_size // how_many_heads  # musi być całkowity\n",
    "        self.self_attention_heads = MultiHeadedAttention(n_embd, single_head_size, context_size, num_heads=how_many_heads)\n",
    "\n",
    "        self.model_head = nn.Linear(how_many_heads * single_head_size, vocab_size)\n",
    "        \n",
    "    def forward(self, input_indices):\n",
    "        B, T = input_indices.shape\n",
    "        token_emb = self.token_embedding_table(input_indices) # B, T, C\n",
    "        pos_emb = self.position_embedding_table(torch.arange(T, device=device)) # T, C\n",
    "        # automatyczny broadcasting pozwala dodać tensory (B,T,C) i (T,C)\n",
    "        x = token_emb + pos_emb\n",
    "        # przeprowadzamy self-attention\n",
    "        x = self.self_attention_heads(x)\n",
    "        # zamieniamy embeddingi na logity\n",
    "        logits = self.model_head(x)\n",
    "        return logits\n",
    "         \n",
    "    def generate(self, current_context: torch.Tensor, max_new_tokens: int):\n",
    "        \"\"\"\n",
    "        Metoda przyjmuje kontekst i na jego podstawie generuje `max_new_tokens` nowych tokenów.\n",
    "        :param current_context: Tensor o wymiarach (Batch, czas) gdzie 'czas' to kolejne znaki kontekstu\n",
    "        :return: Tensor o wymiarach (Batch, czas + max_new_tokens) zawierający podany kontekst, a do niego \"doklejoną\"\n",
    "            wygenerowaną treść\n",
    "        \"\"\"\n",
    "        for _ in range(max_new_tokens):\n",
    "            # korzystamy z tabeli Embeddingów, więc musimy podać co najwyżej ostatnie context_size znaków\n",
    "            logits = self(current_context[:, -context_size:])\n",
    "            logits = logits[:, -1, :]  \n",
    "            probabilities = F.softmax(logits, dim=-1)  \n",
    "            idx_next = torch.multinomial(probabilities, num_samples=1)\n",
    "            current_context = torch.cat((current_context, idx_next), dim=1) # (Batch, czas + 1)\n",
    "        return current_context\n",
    "    \n",
    "if train_older_models is True:\n",
    "    try_model_generation(BigramModel3)"
   ],
   "outputs": [
    {
     "name": "stdout",
     "output_type": "stream",
     "text": [
      "Iteration 1 train loss: 4.164 | test loss: 4.178\n",
      "Iteration 251 train loss: 3.012 | test loss: 3.011\n",
      "Iteration 501 train loss: 2.735 | test loss: 2.673\n",
      "Iteration 751 train loss: 2.591 | test loss: 2.489\n",
      "Iteration 1001 train loss: 2.468 | test loss: 2.632\n",
      "Iteration 1251 train loss: 2.359 | test loss: 2.411\n",
      "Iteration 1501 train loss: 2.352 | test loss: 2.461\n",
      "Iteration 1751 train loss: 2.466 | test loss: 2.372\n",
      "Iteration 2001 train loss: 2.388 | test loss: 2.410\n",
      "Iteration 2251 train loss: 2.295 | test loss: 2.443\n",
      "Final iteration train loss: 2.422 | test loss: 2.260\n",
      "\n",
      "\n",
      "\n",
      "Generated 500 new tokens, output shape: torch.Size([507])\n",
      "--------------------\n",
      "Generated text:  pupil-tainnescancua.\n",
      "\n",
      "Fet the.\n",
      "\n",
      "Cores':\n",
      "Ye,\n",
      "Cels, wp-oay fy nowl\n",
      "ARace, racowlfake thas udhe rear, the onaths isyour, fimed not is cees ger\n",
      "Fe wour the favibocs whe the ble thod he is gak\n",
      "He ode weme an&d baug!\n",
      " to is ansn her.\n",
      "\n",
      "Whe ping;\n",
      "And so cuir allallle wa cwhis ofetu\n",
      "Sly nor us. hey lit swe,\n",
      "Asscl suncek me't pongir and they sal himerngl thes sourirn sus tme,\n",
      "Hall not!\n",
      "\n",
      "Whal my tondamy ovel hours? vetlenre con I, have wo pich hafin thac nof let akeevet! ecetrar'd bull leesn'd bin\n",
      "usuth\n",
      "Dienomis\n"
     ]
    }
   ],
   "execution_count": 184
  },
  {
   "attachments": {
    "fc215d3b-4ec7-4340-8a88-e5b261e2b2fc.png": {
     "image/png": "[encoded data removed]"
    }
   },
   "cell_type": "markdown",
   "id": "5079114a6006a413",
   "metadata": {},
   "source": [
    "To nadal nie to... czegoś nam brakuje. Według autorów \"Attention is all you need\" brakuje nam warstwy Linear na wyjściu z MultiHeadAttention. Można to próbować interpretować w taki sposób, że tokeny \"rozmawiają\" ze sobą w procesie atencji, jednak to nie jest wystarczające. Teraz, gdy już ze sobą \"porozmawiały\", muszą przetworzyć zdobyte informacje. Dlatego zwieńczymy nasz model warstwą FeedForward. Typowym rozwiązaniem w takiej sytuacji jest użycie zwykłej warstwy Linear i zwieńczenie jej funkcją aktywacji, zazwyczaj ReLU. Jednak autorzy \"attention is all you need\" użyli nieco innej struktury:\n",
    "\n",
    "<img src=\"attachment:fc215d3b-4ec7-4340-8a88-e5b261e2b2fc.png\" alt=\"image\" style=\"width:50%;height:50%\">\n",
    "\n",
    "\n",
    "\n",
    "\n",
    "Ta warstwa przetwarza każdy z tokenów indywidualnie, nie dochodzi już do komunikacji pomiędzy nimi"
   ]
  },
  {
   "cell_type": "code",
   "id": "9c35a5c39186ade6",
   "metadata": {
    "ExecuteTime": {
     "end_time": "2024-12-15T12:21:00.802598Z",
     "start_time": "2024-12-15T12:21:00.798380Z"
    }
   },
   "source": [
    "class FeedForward(nn.Module):\n",
    "    def __init__(self, n:int):\n",
    "        super().__init__()\n",
    "        self.net = nn.Sequential(\n",
    "            nn.Linear(n, n * 4),\n",
    "            nn.ReLU(),\n",
    "            nn.Linear(n * 4, n)\n",
    "        )\n",
    "    def forward(self, x):\n",
    "        return self.net(x)\n",
    "        "
   ],
   "outputs": [],
   "execution_count": 185
  },
  {
   "cell_type": "code",
   "id": "2b8e78076645d587",
   "metadata": {
    "ExecuteTime": {
     "end_time": "2024-12-15T12:21:27.530380Z",
     "start_time": "2024-12-15T12:21:00.865302Z"
    }
   },
   "source": [
    "class BigramModel4(nn.Module):\n",
    "    def __init__(self, n_embd: int, vocab_size: int, head_size: int):\n",
    "        super().__init__()\n",
    "        self.token_embedding_table = nn.Embedding(vocab_size, n_embd)\n",
    "        self.position_embedding_table = nn.Embedding(context_size, n_embd)\n",
    "        how_many_heads = 4\n",
    "        single_head_size = head_size//how_many_heads\n",
    "        self.self_attention_heads = MultiHeadedAttention(n_embd, single_head_size, context_size, num_heads=how_many_heads)\n",
    "        self.ffwd = FeedForward(single_head_size * how_many_heads)  # dodajemy dodaktową wartstwę Linear, nie zmienia wymiarów\n",
    "        self.model_head = nn.Linear(single_head_size * how_many_heads, vocab_size)\n",
    "        \n",
    "    def forward(self, input_indices):\n",
    "        B, T = input_indices.shape\n",
    "        token_emb = self.token_embedding_table(input_indices) # B, T, C\n",
    "        pos_emb = self.position_embedding_table(torch.arange(T, device=device)) # T, C\n",
    "        # automatyczny broadcasting pozwala dodać tensory (B,T,C) i (T,C)\n",
    "        x = token_emb + pos_emb\n",
    "        # przeprowadzamy self-attention\n",
    "        x = self.self_attention_heads(x)\n",
    "        # przepuszczamy embeddingi przez wartstwę FeedForward\n",
    "        x = self.ffwd(x)\n",
    "        # zamieniamy embeddingi na logity\n",
    "        logits = self.model_head(x)\n",
    "        return logits\n",
    "         \n",
    "    def generate(self, current_context: torch.Tensor, max_new_tokens: int):\n",
    "        \"\"\"\n",
    "        Metoda przyjmuje kontekst i na jego podstawie generuje `max_new_tokens` nowych tokenów.\n",
    "        :param current_context: Tensor o wymiarach (Batch, czas) gdzie 'czas' to kolejne znaki kontekstu\n",
    "        :return: Tensor o wymiarach (Batch, czas + max_new_tokens) zawierający podany kontekst, a do niego \"doklejoną\"\n",
    "            wygenerowaną treść\n",
    "        \"\"\"\n",
    "        for _ in range(max_new_tokens):\n",
    "            # korzystamy z tabeli Embeddingów, więc musimy podać co najwyżej ostatnie context_size znaków\n",
    "            logits = self(current_context[:, -context_size:])\n",
    "            logits = logits[:, -1, :]  \n",
    "            probabilities = F.softmax(logits, dim=-1)  \n",
    "            idx_next = torch.multinomial(probabilities, num_samples=1)\n",
    "            current_context = torch.cat((current_context, idx_next), dim=1) # (Batch, czas + 1)\n",
    "        return current_context\n",
    "    \n",
    "if train_older_models is True:\n",
    "    try_model_generation(BigramModel4)"
   ],
   "outputs": [
    {
     "name": "stdout",
     "output_type": "stream",
     "text": [
      "Iteration 1 train loss: 4.201 | test loss: 4.191\n",
      "Iteration 251 train loss: 2.848 | test loss: 2.847\n",
      "Iteration 501 train loss: 2.540 | test loss: 2.727\n",
      "Iteration 751 train loss: 2.616 | test loss: 2.493\n",
      "Iteration 1001 train loss: 2.474 | test loss: 2.542\n",
      "Iteration 1251 train loss: 2.464 | test loss: 2.442\n",
      "Iteration 1501 train loss: 2.383 | test loss: 2.449\n",
      "Iteration 1751 train loss: 2.384 | test loss: 2.415\n",
      "Iteration 2001 train loss: 2.447 | test loss: 2.566\n",
      "Iteration 2251 train loss: 2.495 | test loss: 2.513\n",
      "Final iteration train loss: 2.508 | test loss: 2.408\n",
      "\n",
      "\n",
      "\n",
      "Generated 500 new tokens, output shape: torch.Size([507])\n",
      "--------------------\n",
      "Generated text: t dignitie ononn' shre, hincn the metrile tus abrarl ofrikke drlangthet ich 'sh gath you, thih adsr'd bas thr.\n",
      "\n",
      "WEFS:\n",
      "Ho hew shiek o Wasif wres me;\n",
      "I hor brat,\n",
      "And chy to fro dithe ho lost, thae you,\n",
      "Sowis mur at And ture\n",
      "Oo ufour prerd:\n",
      "I\n",
      "Att ide:\n",
      "A froop ast.\n",
      "\n",
      "YOou he's blus\n",
      "Aot thpt, dre hid;\n",
      "Horss bund,\n",
      "Gord\n",
      "Fro ond wo teif,\n",
      "Ach han:\n",
      "Yer crlon'th sualne\n",
      "Ptt ho fintes anentus, able Ws one why hit, wave theone shor,\n",
      "Cy mawngen'd gore dexcothetwil he.\n",
      "\n",
      "Kord-ucags\n",
      "I meesiighand, froulvll ass frotth tao\n"
     ]
    }
   ],
   "execution_count": 186
  },
  {
   "cell_type": "markdown",
   "id": "3cb3e930ee4d11c4",
   "metadata": {},
   "source": [
    "Tekst może nie wygląda lepiej, jednak loss naszego modelu jest nieco mniejszy - dobra nasza. \n",
    "\n",
    "Teraz, gdy już zaimplementowaliśmy fazę komunikacji (attention) oraz obliczeń (feed forward), zamknijmy je w jeden \"Block\" i powtórzmy kilka razy, przeplatając komunikację i obliczenia."
   ]
  },
  {
   "cell_type": "code",
   "id": "841dbfc4a5ee73c4",
   "metadata": {
    "ExecuteTime": {
     "end_time": "2024-12-15T12:21:27.564553Z",
     "start_time": "2024-12-15T12:21:27.561207Z"
    }
   },
   "source": [
    "class Block(nn.Module):\n",
    "    \"\"\"Blok w którym najpierw następuje komunikacja (self-attention) a potem obliczenia (feed forward)\"\"\"\n",
    "    def __init__(self, n_embd, n_head):\n",
    "        super().__init__()\n",
    "        single_head_size = n_embd // n_head\n",
    "        self.sa = MultiHeadedAttention(n_embd, single_head_size, context_size, num_heads=n_head)\n",
    "        self.ffwd = FeedForward(single_head_size * n_head)\n",
    "        \n",
    "    def forward(self, x):\n",
    "        x = self.sa(x)\n",
    "        x = self.ffwd(x)\n",
    "        return x\n"
   ],
   "outputs": [],
   "execution_count": 187
  },
  {
   "cell_type": "code",
   "id": "aebc92ffd78f885c",
   "metadata": {
    "ExecuteTime": {
     "end_time": "2024-12-15T12:22:23.799958Z",
     "start_time": "2024-12-15T12:21:27.606198Z"
    }
   },
   "source": [
    "class BigramModel5(nn.Module):\n",
    "    def __init__(self, n_embd: int, vocab_size: int, head_size: int):\n",
    "        super().__init__()\n",
    "        self.token_embedding_table = nn.Embedding(vocab_size, n_embd)\n",
    "        self.position_embedding_table = nn.Embedding(context_size, n_embd)\n",
    "        how_many_heads = 4\n",
    "        self.blocks = nn.Sequential(\n",
    "            Block(n_embd, n_head=4),\n",
    "            Block(n_embd, n_head=4),\n",
    "            Block(n_embd, n_head=4)\n",
    "        )\n",
    "        self.model_head = nn.Linear(n_embd, vocab_size)\n",
    "        \n",
    "    def forward(self, input_indices):\n",
    "        B, T = input_indices.shape\n",
    "        token_emb = self.token_embedding_table(input_indices) # B, T, C\n",
    "        pos_emb = self.position_embedding_table(torch.arange(T, device=device)) # T, C\n",
    "        # automatyczny broadcasting pozwala dodać tensory (B,T,C) i (T,C)\n",
    "        x = token_emb + pos_emb\n",
    "        # przeprowadzamy self-attention\n",
    "        x = self.blocks(x)\n",
    "        # zamieniamy embeddingi na logity\n",
    "        logits = self.model_head(x)\n",
    "        return logits\n",
    "         \n",
    "    def generate(self, current_context: torch.Tensor, max_new_tokens: int):\n",
    "        \"\"\"\n",
    "        Metoda przyjmuje kontekst i na jego podstawie generuje `max_new_tokens` nowych tokenów.\n",
    "        :param current_context: Tensor o wymiarach (Batch, czas) gdzie 'czas' to kolejne znaki kontekstu\n",
    "        :return: Tensor o wymiarach (Batch, czas + max_new_tokens) zawierający podany kontekst, a do niego \"doklejoną\"\n",
    "            wygenerowaną treść\n",
    "        \"\"\"\n",
    "        for _ in range(max_new_tokens):\n",
    "            # korzystamy z tabeli Embeddingów, więc musimy podać co najwyżej ostatnie context_size znaków\n",
    "            logits = self(current_context[:, -context_size:])\n",
    "            logits = logits[:, -1, :]  \n",
    "            probabilities = F.softmax(logits, dim=-1)  \n",
    "            idx_next = torch.multinomial(probabilities, num_samples=1)\n",
    "            current_context = torch.cat((current_context, idx_next), dim=1) # (Batch, czas + 1)\n",
    "        return current_context\n",
    "    \n",
    "if train_older_models is True:\n",
    "    try_model_generation(BigramModel5)"
   ],
   "outputs": [
    {
     "name": "stdout",
     "output_type": "stream",
     "text": [
      "Iteration 1 train loss: 4.189 | test loss: 4.174\n",
      "Iteration 251 train loss: 3.085 | test loss: 3.044\n",
      "Iteration 501 train loss: 2.795 | test loss: 2.749\n",
      "Iteration 751 train loss: 2.677 | test loss: 2.496\n",
      "Iteration 1001 train loss: 2.581 | test loss: 2.545\n",
      "Iteration 1251 train loss: 2.462 | test loss: 2.581\n",
      "Iteration 1501 train loss: 2.543 | test loss: 2.401\n",
      "Iteration 1751 train loss: 2.430 | test loss: 2.269\n",
      "Iteration 2001 train loss: 2.225 | test loss: 2.313\n",
      "Iteration 2251 train loss: 2.329 | test loss: 2.258\n",
      "Final iteration train loss: 2.218 | test loss: 2.211\n",
      "\n",
      "\n",
      "\n",
      "Generated 500 new tokens, output shape: torch.Size([507])\n",
      "--------------------\n",
      "Generated text: ook thy mimh'd a plistsk sef I ceand, culdt labs:\n",
      "Thind saut of vay?\n",
      "\n",
      "BESYHILS \n",
      "eput ned be grensave woug rorowg ous; bigt, com bomhens. Useet yoice ar; be not we ny'd: dound hing to asl for tou bec se, knonter ctron porpeven's somclto to to hy fere, slust.\n",
      "\n",
      "Fher gelave nos bot,\n",
      "Al\n",
      "Nughd thandigen\n",
      "We oned pe,\n",
      "o mense lon'd amuingd jefs's thanndf, you ouwe walaust. you mepe opuch ic'lfer's img prothak nerfalle spoly.\n",
      "\n",
      "ANROTENN:\n",
      "Lake meairt; lom xout lot cow\n",
      "sour a terves\n",
      "Thigseraty whoum wond I beiy on'\n"
     ]
    }
   ],
   "execution_count": 188
  },
  {
   "attachments": {
    "e5e6c2d5-661f-40c4-8313-c9101ec850d0.png": {
     "image/png": "[encoded data removed]"
    }
   },
   "cell_type": "markdown",
   "id": "559d3d93d0525516",
   "metadata": {},
   "source": [
    "Nasza sieć wcale nie radzi sobie lepiej, tylko gorzej! Dlaczego? \n",
    "Zwielokratniając liczbę Bloków sprawiliśmy, że ta sieć staje się dość głęboka, a przez to cierpi na problemy optymalizacyjne głębokich sieci. Autorzy \"Attention is all you need\" oczywiście o tym pomyśleli, więc nie będę wymyślał koła od nowa, tylko skopiuję ich pomysł :)\n",
    "\n",
    "![image.png](attachment:e5e6c2d5-661f-40c4-8313-c9101ec850d0.png)\n",
    "\n",
    "Pierwszym problemem jest to, że gradient musi \"przejść\" przez bardzo wiele różnych warstw przez to, że nasza sieć jest głęboka i to utrudnia jej trening.\n",
    "\n",
    "Rozwiązaniem są \"skróty\", które na tym diagramie omijają bloki Attention oraz Feed Forward. Tworzą one dużo krótszą drogę dla gradientu, która bardzo ułatwia optymalizowanie głębokich sieci. Z angielska takie \"autostrady\" nazywają się **residual connections** i po raz pierwszy zostały szeroko zastosowane w 2015 roku.\n",
    "\n",
    "Operacja dodawania równo rozdziela gradient pomiędzy oba operandy, dlatego to właśnie jej użyjemy do zaimplementowania tych skrótów.\n",
    "W kodzie następnego modelu oznaczę te skróty komentarzami, ponieważ nie wiedząc skąd dokładnie się biorą na pierwszy (oraz drugi) rzut oka mogą nie mieć żadnego sensu.\n",
    "\n",
    "Zainteresowanych odsyłam do artykułu, który moim zdaniem dobrze to tłumaczy: https://towardsdatascience.com/what-is-residual-connection-efb07cab0d55\n",
    "\n",
    "Aby to zaimplementować musimy zmienić definicje klasy Block:\n"
   ]
  },
  {
   "cell_type": "code",
   "id": "a8b59b7f0130986f",
   "metadata": {
    "ExecuteTime": {
     "end_time": "2024-12-15T12:22:23.828885Z",
     "start_time": "2024-12-15T12:22:23.824738Z"
    }
   },
   "source": [
    "   \n",
    "class Block2(nn.Module):\n",
    "    \"\"\"Blok zmodyfikowany o dodatkowe residual connection\"\"\"\n",
    "    def __init__(self, n_embd, n_head):\n",
    "        super().__init__()\n",
    "        single_head_size = n_embd // n_head\n",
    "        self.sa = MultiHeadedAttention(n_embd, single_head_size, context_size, num_heads=n_head)\n",
    "        self.ffwd = FeedForward(n_embd)\n",
    "        \n",
    "    def forward(self, x):\n",
    "        x =  x + self.sa(x)  # Res connection: x + F(x)\n",
    "        x =  x + self.ffwd(x)  # Res connection: x + F(x)\n",
    "        return x\n",
    "    "
   ],
   "outputs": [],
   "execution_count": 189
  },
  {
   "cell_type": "code",
   "id": "e4486f82edab934d",
   "metadata": {
    "ExecuteTime": {
     "end_time": "2024-12-15T12:23:18.027809Z",
     "start_time": "2024-12-15T12:22:23.868062Z"
    }
   },
   "source": [
    "class BigramModel6(nn.Module):\n",
    "    def __init__(self, n_embd: int, vocab_size: int, head_size: int):\n",
    "        super().__init__()\n",
    "        self.token_embedding_table = nn.Embedding(vocab_size, n_embd)\n",
    "        self.position_embedding_table = nn.Embedding(context_size, n_embd)\n",
    "        how_many_heads = 4\n",
    "        self.blocks = nn.Sequential(\n",
    "            Block2(n_embd, n_head=4),\n",
    "            Block2(n_embd, n_head=4),\n",
    "            Block2(n_embd, n_head=4)\n",
    "        )\n",
    "        self.model_head = nn.Linear(n_embd, vocab_size)\n",
    "\n",
    "    # noinspection PyPep8Naming\n",
    "    def forward(self, input_indices):\n",
    "        B, T = input_indices.shape\n",
    "        token_emb = self.token_embedding_table(input_indices) # B, T, C\n",
    "        pos_emb = self.position_embedding_table(torch.arange(T, device=device)) # T, C\n",
    "        # automatyczny broadcasting pozwala dodać tensory (B,T,C) i (T,C)\n",
    "        x = token_emb + pos_emb\n",
    "        # przeprowadzamy self-attention\n",
    "        x = self.blocks(x)\n",
    "        # zamieniamy embeddingi na logity\n",
    "        logits = self.model_head(x)\n",
    "        return logits\n",
    "         \n",
    "    def generate(self, current_context: torch.Tensor, max_new_tokens: int):\n",
    "        \"\"\"\n",
    "        Metoda przyjmuje kontekst i na jego podstawie generuje `max_new_tokens` nowych tokenów.\n",
    "        :param current_context: Tensor o wymiarach (Batch, czas) gdzie 'czas' to kolejne znaki kontekstu\n",
    "        :return: Tensor o wymiarach (Batch, czas + max_new_tokens) zawierający podany kontekst, a do niego \"doklejoną\"\n",
    "            wygenerowaną treść\n",
    "        \"\"\"\n",
    "        for _ in range(max_new_tokens):\n",
    "            # korzystamy z tabeli Embeddingów, więc musimy podać co najwyżej ostatnie context_size znaków\n",
    "            logits = self(current_context[:, -context_size:])\n",
    "            logits = logits[:, -1, :]  \n",
    "            probabilities = F.softmax(logits, dim=-1)  \n",
    "            idx_next = torch.multinomial(probabilities, num_samples=1)\n",
    "            current_context = torch.cat((current_context, idx_next), dim=1) # (Batch, czas + 1)\n",
    "        return current_context\n",
    "    \n",
    "if train_older_models is True:\n",
    "    try_model_generation(BigramModel6)"
   ],
   "outputs": [
    {
     "name": "stdout",
     "output_type": "stream",
     "text": [
      "Iteration 1 train loss: 4.531 | test loss: 4.560\n",
      "Iteration 251 train loss: 2.520 | test loss: 2.495\n",
      "Iteration 501 train loss: 2.359 | test loss: 2.327\n",
      "Iteration 751 train loss: 2.197 | test loss: 2.256\n",
      "Iteration 1001 train loss: 2.251 | test loss: 2.180\n",
      "Iteration 1251 train loss: 2.137 | test loss: 2.141\n",
      "Iteration 1501 train loss: 2.179 | test loss: 2.111\n",
      "Iteration 1751 train loss: 2.034 | test loss: 2.144\n",
      "Iteration 2001 train loss: 2.025 | test loss: 2.052\n",
      "Iteration 2251 train loss: 2.033 | test loss: 1.985\n",
      "Final iteration train loss: 2.078 | test loss: 1.961\n",
      "\n",
      "\n",
      "\n",
      "Generated 500 new tokens, output shape: torch.Size([507])\n",
      "--------------------\n",
      "Generated text:  lastingenan reak re his came a this lave! Sasme or son:\n",
      "That,\n",
      "Doub that my ain's hus deatesoner ques is that them ysalnspaics frip put in at a you of not sir infor how\n",
      "\n",
      "jowtay,\n",
      "Tacides: 'tway and the renguin, agat igking tor rice not\n",
      "As he ins ans prough ven sprough riststernces rely, your me lork in ort\n",
      "Ane on! dut holds of rour love, the beap; your and wing yifgusoon's me but must meth her'd to-\n",
      "\n",
      "Keesood vich soo moose Lantion? the you heare to and fo' herperen stay bellaot, a bochid! so,\n",
      "wiccleapie\n"
     ]
    }
   ],
   "execution_count": 190
  },
  {
   "attachments": {
    "e235554e-d5c7-42e8-8333-d5afdd2b87e5.png": {
     "image/png": "[encoded data removed]"
    }
   },
   "cell_type": "markdown",
   "id": "7d65bad60621418b",
   "metadata": {},
   "source": [
    "Tekst nadal nie wygląda idealnie, jednak widać postęp. Ponadto istotnie zmniejszyliśmy loss naszego modelu, co pokazuje, że zmierzamy w dobrą stronę.\n",
    "\n",
    "Teraz pora zająć się kolejnym problemem typowym szczególnie dla dla głębokich sieci neuronowych - eksplodującym i/lub znikającym\n",
    "gradientem. Rozwiązaniem jest normalizacja, która sprawia, że wartości gradientów \"pozostają pod kontrolą\".\n",
    "\n",
    "Najpopularniejsze są dwa rodzaje normalizacji - BatchNorm oraz LayerNorm. BatchNorm jest często używany przy computer vision, na przykład w sieciach CNN. Niemniej ma on swoje cechy, które przy zastosowaniach w NLP okazują się wadami:\n",
    "\n",
    "- Jest zależny od całego batcha. To sprawia, że różne przykłady w jednym batchu wzajemnie wpływają na to, jak są znormalizowane. \n",
    "- Z powodu zależności od całego batcha jest bardzo wrażliwy na rozmiar tego batcha: małe rozmiary prowadzą do słabych oszacowań średniej i wariancji\n",
    "- Dobrze sobie radzi w miejscach, gdzie istotna okazuje się zależność przestrzenna, jak np. przy analizie obrazów\n",
    "\n",
    "ALternatywnym podejściem jest LayerNorm. Normalizuje wejścia dla każdego przykładu oddzielnie.\n",
    "\n",
    "- Każda próbka jest normalizowana niezależnie od pozostałych\n",
    "- Nie jest wrażliwy na rozmiar batcha, ponieważ każdy sample jest normalizowany niezależnie\n",
    "- Nie uwzględnia żadnych zależności przestrzennych między próbkami, przez co dobrze sobie radzi w przetwarzaniu sekwencji oraz NLP\n",
    "\n",
    "Po tym porównaniu pewnie nikogo nie zdziwi, że autorzy Attention is all you need skorzystali z LayerNorm. LayerNorm oczywiście jest wbudowany w PyTorch, jednak obiecałem budowanie od podstaw... Podczas LayerNorm realizujemy nastepującą operację:\n",
    "\n",
    "![image.png](attachment:e235554e-d5c7-42e8-8333-d5afdd2b87e5.png)"
   ]
  },
  {
   "cell_type": "code",
   "id": "73db925eb889c35a",
   "metadata": {
    "ExecuteTime": {
     "end_time": "2024-12-15T12:23:18.060759Z",
     "start_time": "2024-12-15T12:23:18.050403Z"
    }
   },
   "source": [
    "from typing import Tuple, List\n",
    "class MyLayerNorm(nn.Module):\n",
    "    \"\"\"Warstwa normalizująca po ostatnich wymiarach podanego Tensora\"\"\"\n",
    "    normalized_shape: Tuple[int] | List[int]\n",
    "    def __init__(self, normalized_shape: Tuple[int] | List[int], eps=1e-5, elementwise_affine=True, bias=True):\n",
    "        \"\"\"\n",
    "        :param normalized_shape: Wymiary, po których ma zostać przeprowadzona normalizacja. Muszą to być ostatnie wymiary podanego \n",
    "            Tensora. Są potrzebne, jeżeli warstwa ma uczyć się dodatkowo wag (dla wbudowanej w torch jest to parametr \n",
    "            elementwise_affine = True). My nie będziemy tego tutaj używać\n",
    "        \"\"\"\n",
    "        super().__init__()\n",
    "        self.normalized_shape = normalized_shape\n",
    "        if elementwise_affine is True:\n",
    "            self.gamma = nn.Parameter(torch.ones(normalized_shape))\n",
    "            if bias is True: \n",
    "                self.beta = nn.Parameter(torch.zeros(normalized_shape))\n",
    "        self.eps = eps\n",
    "        self.elementwise_affine = elementwise_affine\n",
    "        self.bias = bias\n",
    "        \n",
    "   \n",
    "    def forward(self, x: torch.Tensor):\n",
    "        ndim = len(self.normalized_shape)\n",
    "        if tuple(x.shape[-ndim:]) != tuple(self.normalized_shape):\n",
    "            raise ValueError(f\"Expected last dimensions to have shape {self.normalized_shape}, got {x.shape[-ndim:]}\")\n",
    "        temp = [i for i in range(-ndim, 0)]\n",
    "        mean = x.mean(dim=temp, keepdim=True)\n",
    "        var = x.var(dim=temp, unbiased=False, keepdim=True) # wbudowana w PyTorch implementacja korzysta z obciążonego estymatora,\n",
    "        # więc my także będziemy\n",
    "        x = (x - mean) / torch.sqrt(var + self.eps)\n",
    "        if self.elementwise_affine is True:\n",
    "            x = x * self.gamma\n",
    "            if self.bias is True:\n",
    "                x = x + self.beta\n",
    "        return x\n",
    "\n",
    "\n",
    "# noinspection PyPep8Naming\n",
    "def compare_layer_norms():\n",
    "    # NLP example\n",
    "    batch, length, emb_dim = 20, 5, 10\n",
    "    emb = torch.randn(batch, length, emb_dim)\n",
    "    torch_norm = nn.LayerNorm(emb_dim, elementwise_affine=False)\n",
    "    my_norm = MyLayerNorm((emb_dim, ))\n",
    "    print(f\"Embedding example, are the results the same? :{torch.allclose(torch_norm(emb), my_norm(emb), atol=1e-7)}\")  \n",
    "    \n",
    "    #Image example\n",
    "    batch, C, H, W = 20, 5, 10, 10\n",
    "    image_input = torch.randn(batch, C, H, W)\n",
    "    torch_norm = nn.LayerNorm([C, H, W], elementwise_affine=False)\n",
    "    my_norm = MyLayerNorm([C, H, W], elementwise_affine=False)\n",
    "    print(f\"Image example, are the results the same? :{torch.allclose(torch_norm(image_input), my_norm(image_input), atol=1e-7)}\")  \n",
    "\n",
    "compare_layer_norms()"
   ],
   "outputs": [
    {
     "name": "stdout",
     "output_type": "stream",
     "text": [
      "Embedding example, are the results the same? :True\n",
      "Image example, are the results the same? :True\n"
     ]
    }
   ],
   "execution_count": 191
  },
  {
   "cell_type": "markdown",
   "id": "ac178fe975c1956a",
   "metadata": {},
   "source": [
    "Jak widać nasza własna warstwa MyLayerNorm zwraca identyczne wyniki jak wbudowana w torch LayerNorm.\n",
    "\n",
    "Zaimplementujmy teraz LayerNorm w naszym modelu. Jak widać na załączonym nieco wyżej diagramie autorzy Attention is all you need używają LayerNorm po każdej warstwie Attention i FeedForward. To oznacza, że znowu zmieniamy definicję klasy Block. LayerNorm jest także na samym końcu transformera, tuż przed ostatnią warstwą Linear.\n",
    "\n",
    "W klasie Block dodamy także zabezpieczenie sprawdzające, czy n_embd można podzielić przez n_head"
   ]
  },
  {
   "cell_type": "code",
   "id": "885eb28f34e0c1a6",
   "metadata": {
    "ExecuteTime": {
     "end_time": "2024-12-15T12:24:21.795765Z",
     "start_time": "2024-12-15T12:23:18.114624Z"
    }
   },
   "source": [
    "class Block3(nn.Module):\n",
    "    \"\"\"Blok z dodanym LayerNorm\"\"\"\n",
    "    def __init__(self, n_embd, n_head, context_size):\n",
    "        super().__init__()\n",
    "        if n_embd % n_head != 0:\n",
    "            error_msg = (f\"Class Block expected n_embd to be divisible by n_head, but got {n_embd = } and {n_head = }\"\n",
    "                         f\"which leaves remainder of {n_embd % n_head}.\")\n",
    "            raise ValueError(error_msg)\n",
    "        single_head_size = n_embd//n_head\n",
    "        self.sa = MultiHeadedAttention(n_embd, single_head_size, context_size, num_heads=n_head)\n",
    "        self.ffwd = FeedForward(n_embd)\n",
    "        self.layer_norm1 = MyLayerNorm([n_embd])\n",
    "        self.layer_norm2 = MyLayerNorm([n_embd])\n",
    "        \n",
    "    def forward(self, x):\n",
    "        x = x + self.sa(self.layer_norm1(x))  # Res connection: x + F(x)\n",
    "        x = x + self.ffwd(self.layer_norm2(x))  # Res connection: x + F(x)\n",
    "        return x\n",
    "class BigramModel7(nn.Module):\n",
    "    \"\"\" Dodano LayerNorm\"\"\"\n",
    "    def __init__(self, n_embd: int, vocab_size: int, head_size: int):\n",
    "        super().__init__()\n",
    "        self.token_embedding_table = nn.Embedding(vocab_size, n_embd)\n",
    "        self.position_embedding_table = nn.Embedding(context_size, n_embd)\n",
    "        self.blocks = nn.Sequential(\n",
    "            Block3(n_embd, n_head=4, context_size=context_size),\n",
    "            Block3(n_embd, n_head=4, context_size=context_size),\n",
    "            Block3(n_embd, n_head=4, context_size=context_size),\n",
    "            MyLayerNorm([n_embd]),\n",
    "        )\n",
    "        self.model_head = nn.Linear(n_embd, vocab_size)\n",
    "\n",
    "    # noinspection PyPep8Naming\n",
    "    def forward(self, input_indices):\n",
    "        B, T = input_indices.shape\n",
    "        token_emb = self.token_embedding_table(input_indices) # B, T, C\n",
    "        pos_emb = self.position_embedding_table(torch.arange(T, device=device)) # T, C\n",
    "        # automatyczny broadcasting pozwala dodać tensory (B,T,C) i (T,C)\n",
    "        x = token_emb + pos_emb\n",
    "        # przeprowadzamy self-attention\n",
    "        x = self.blocks(x)\n",
    "        # zamieniamy embeddingi na logity\n",
    "        logits = self.model_head(x)\n",
    "        return logits\n",
    "         \n",
    "    def generate(self, current_context: torch.Tensor, max_new_tokens: int):\n",
    "        \"\"\"\n",
    "        Metoda przyjmuje kontekst i na jego podstawie generuje `max_new_tokens` nowych tokenów.\n",
    "        :param current_context: Tensor o wymiarach (Batch, czas) gdzie 'czas' to kolejne znaki kontekstu\n",
    "        :return: Tensor o wymiarach (Batch, czas + max_new_tokens) zawierający podany kontekst, a do niego \"doklejoną\"\n",
    "            wygenerowaną treść\n",
    "        \"\"\"\n",
    "        for _ in range(max_new_tokens):\n",
    "            # korzystamy z tabeli Embeddingów, więc musimy podać co najwyżej ostatnie context_size znaków\n",
    "            logits = self(current_context[:, -context_size:])\n",
    "            logits = logits[:, -1, :]  \n",
    "            probabilities = F.softmax(logits, dim=-1)  \n",
    "            idx_next = torch.multinomial(probabilities, num_samples=1)\n",
    "            current_context = torch.cat((current_context, idx_next), dim=1) # (Batch, czas + 1)\n",
    "        return current_context\n",
    "train_older_models = True   \n",
    "if train_older_models is True:\n",
    "    try_model_generation(BigramModel7)"
   ],
   "outputs": [
    {
     "name": "stdout",
     "output_type": "stream",
     "text": [
      "Iteration 1 train loss: 4.202 | test loss: 4.203\n",
      "Iteration 251 train loss: 2.562 | test loss: 2.525\n",
      "Iteration 501 train loss: 2.294 | test loss: 2.382\n",
      "Iteration 751 train loss: 2.235 | test loss: 2.268\n",
      "Iteration 1001 train loss: 2.309 | test loss: 2.172\n",
      "Iteration 1251 train loss: 2.175 | test loss: 2.095\n",
      "Iteration 1501 train loss: 2.241 | test loss: 2.169\n",
      "Iteration 1751 train loss: 2.132 | test loss: 2.125\n",
      "Iteration 2001 train loss: 1.961 | test loss: 2.045\n",
      "Iteration 2251 train loss: 2.100 | test loss: 2.042\n",
      "Final iteration train loss: 2.098 | test loss: 2.051\n",
      "\n",
      "\n",
      "\n",
      "Generated 500 new tokens, output shape: torch.Size([507])\n",
      "--------------------\n",
      "Generated text:  beck?\n",
      "\n",
      "Fy for word, thee:\n",
      "Oly tis:\n",
      "Hem blothere; hill now raiselvex, leacitharanced me :epooth, Of eif lessind, the poterse. Wroun in hath and jefore\n",
      "As rep, he lood Cvinast lienders,\n",
      "Whe and onan butiele hour, rle of rettlem;\n",
      "Alive hor olliud to corsons this have afs:\n",
      "Mortack?\n",
      "\n",
      "DUKINGA:\n",
      "Nod, voin,\n",
      "Or hange from are! I fruck-uncom.\n",
      "\n",
      "To chal shall with yu iss this couses mearther yous tan undery trosont tlely-fay to po's fickon gone\n",
      "Gakist your Couse how ellow, thy whim hoss, 'Toll can with the pistrei\n"
     ]
    }
   ],
   "execution_count": 192
  },
  {
   "cell_type": "markdown",
   "id": "73b0c52de67141dc",
   "metadata": {},
   "source": [
    "Po dodaniu normalizacji loss trochę się obniżył - dobra nasza. Na razie ta zmiana może się wydawać nieznaczna, ale będzie odgrywała istotniejszą rolę, gdy będziemy dalej powiększali naszą sieć.\n",
    "\n",
    "Gdy zajęliśmy się już dwoma \"najpopularniejszymi\" problemami sieci głębokich możemy spróbować powiększyć nasz model i zobaczyć, jak się sprawdzi. W celu powiększenia modelu musimy go jeszcze raz zredefiniować, aby można było dynamicznie określać liczbę warstw Block."
   ]
  },
  {
   "cell_type": "code",
   "id": "8d888fd88c418324",
   "metadata": {
    "ExecuteTime": {
     "end_time": "2024-12-15T12:34:39.444504Z",
     "start_time": "2024-12-15T12:26:04.174408Z"
    }
   },
   "source": [
    "# Redefinicja hiperparametrów\n",
    "batch_size = 64\n",
    "context_size = 128\n",
    "train_iterations = 3_000\n",
    "learning_rate = 5e-4  # zmniejszamy lr, ponieważ nasz model będzie większy\n",
    "device = 'cuda' if torch.cuda.is_available() else 'cpu'\n",
    "embedding_size = 192\n",
    "amount_of_heads = 6\n",
    "amount_of_blocks = 4\n",
    "dropout = 0.1  # będzie potrzebny za chwilę\n",
    "\n",
    "rng = torch.Generator()\n",
    "rng.manual_seed(42)\n",
    "\n",
    "\n",
    "# noinspection PyPep8Naming\n",
    "class BigramModel8(nn.Module):\n",
    "    \"\"\" Dodano dynamiczne ustalanie liczby warstw Block\"\"\"\n",
    "    def __init__(self, n_embd: int, vocab_size: int, head_size):  # head size jest już nieużywany ale\n",
    "        # nie chcę modyfikować funkcji wywołujących starsze modele\n",
    "        super().__init__()\n",
    "        self.token_embedding_table = nn.Embedding(vocab_size, n_embd)\n",
    "        self.position_embedding_table = nn.Embedding(context_size, n_embd)\n",
    "        blocks_list = [Block3(n_embd, amount_of_heads, context_size) for _ in range(amount_of_blocks)]\n",
    "        blocks_list.append(MyLayerNorm([n_embd]))\n",
    "        self.blocks = nn.Sequential(*blocks_list)\n",
    "        self.model_head = nn.Linear(n_embd, vocab_size)\n",
    "        \n",
    "    def forward(self, input_indices):\n",
    "        B, T = input_indices.shape\n",
    "        token_emb = self.token_embedding_table(input_indices) # B, T, C\n",
    "        pos_emb = self.position_embedding_table(torch.arange(T, device=device)) # T, C\n",
    "        # automatyczny broadcasting pozwala dodać tensory (B,T,C) i (T,C)\n",
    "        x = token_emb + pos_emb\n",
    "        # przeprowadzamy self-attention\n",
    "        x = self.blocks(x)\n",
    "        # zamieniamy embeddingi na logity\n",
    "        logits = self.model_head(x)\n",
    "        return logits\n",
    "         \n",
    "    def generate(self, current_context: torch.Tensor, max_new_tokens: int):\n",
    "        \"\"\"\n",
    "        Metoda przyjmuje kontekst i na jego podstawie generuje `max_new_tokens` nowych tokenów.\n",
    "        :param current_context: Tensor o wymiarach (Batch, czas) gdzie 'czas' to kolejne znaki kontekstu\n",
    "        :return: Tensor o wymiarach (Batch, czas + max_new_tokens) zawierający podany kontekst, a do niego \"doklejoną\"\n",
    "            wygenerowaną treść\n",
    "        \"\"\"\n",
    "        for _ in range(max_new_tokens):\n",
    "            # korzystamy z tabeli Embeddingów, więc musimy podać co najwyżej ostatnie context_size znaków\n",
    "            logits = self(current_context[:, -context_size:])\n",
    "            logits = logits[:, -1, :]  \n",
    "            probabilities = F.softmax(logits, dim=-1)  \n",
    "            idx_next = torch.multinomial(probabilities, num_samples=1)\n",
    "            current_context = torch.cat((current_context, idx_next), dim=1) # (Batch, czas + 1)\n",
    "        return current_context\n",
    "    \n",
    "if train_older_models is True:\n",
    "    try_model_generation(BigramModel8, train_iterations=train_iterations, n_embd=embedding_size, context_size=context_size)\n"
   ],
   "outputs": [
    {
     "name": "stdout",
     "output_type": "stream",
     "text": [
      "Iteration 1 train loss: 3.643 | test loss: 3.660\n",
      "Iteration 301 train loss: 1.949 | test loss: 1.999\n",
      "Iteration 601 train loss: 1.587 | test loss: 1.621\n",
      "Iteration 901 train loss: 1.487 | test loss: 1.496\n",
      "Iteration 1201 train loss: 1.418 | test loss: 1.404\n",
      "Iteration 1501 train loss: 1.367 | test loss: 1.347\n",
      "Iteration 1801 train loss: 1.313 | test loss: 1.293\n",
      "Iteration 2101 train loss: 1.258 | test loss: 1.284\n",
      "Iteration 2401 train loss: 1.228 | test loss: 1.261\n",
      "Iteration 2701 train loss: 1.184 | test loss: 1.207\n",
      "Final iteration train loss: 1.173 | test loss: 1.235\n",
      "\n",
      "\n",
      "\n",
      "Generated 500 new tokens, output shape: torch.Size([628])\n",
      "--------------------\n",
      "Generated text:  not heard speak of Mariana, the sister of\n",
      "Frederick the great soldier who miscarried at sea?\n",
      "\n",
      "ISABELLA:\n",
      "I have heard of the ladies off Exceen,\n",
      "And statey on conduct of night, and helping his\n",
      "And but to the Lady Bray lie Salisbury at the deputy;\n",
      "What least mistakes, and delish, thou nature,\n",
      "Beater thou the office: I'll what lost\n",
      "I know good to mark! O, do not make him\n",
      "Bucking shall be peace, as I shall be two\n",
      "thou, wert not thinking a graves, another:\n",
      "What say waverning hath not been but in night\n",
      "Him in the cousinius King Richard's own halt a rapture,\n",
      "Airiage hence till the huntime thou hath hadmen.\n",
      "For Young, thy heavie\n"
     ]
    }
   ],
   "execution_count": 194
  },
  {
   "attachments": {
    "2d93df06-418b-4ab0-a256-cdb01aca0b41.png": {
     "image/png": "[encoded data removed]"
    }
   },
   "cell_type": "markdown",
   "id": "afdac437e23b7aec",
   "metadata": {},
   "source": [
    "**Sukces!** Udało nam się wygenerować tekst, który faktycznie wygląda jak dzieło Szekspira i nawet całkiem nieźle udaje, że ma jakiś sens.\n",
    "Nasz model nie jest nawet aż taki duży, więc jeszcze nie nastąpił overfitting. Niemniej przy budowaniu większych modeli na większych zbiorach danych prędzej czy później overfitting wystąpi, dlatego zawczasu dodamy do naszego modelu warstwy Dropout, opisane po raz pierwszy w 2014 roku: https://jmlr.org/papers/volume15/srivastava14a/srivastava14a.pdf . To właśnie to badanie zacytowali autorzy \"Attention is all you need\" gdy wprowadzali dropout w swoich modelach.\n",
    "\n",
    "Dropout jest techniką regularyzacji, która podczas treningu z pewnym prawdopodobieństwem `p` zeruje pewne neurony, przy każdej iteracji inne. W efekcie symulujemy sytuację, w której nie ćwiczymy jednej wielkiej sieci, tylko bardzo dużo subsetów mniejszych sieci, które dopiero przy faktycznej inferencji łączą swoje rezultaty i działają jak jedna sieć:\n",
    "\n",
    "![image.png](attachment:2d93df06-418b-4ab0-a256-cdb01aca0b41.png)\n",
    "\n",
    "Autorzy \"Attention is all you need\" dokładnie opisali, w jaki sposób używali u siebie dropout:\n",
    "> \"We apply dropout to the output of each sub-layer, before it is added to the\n",
    "sub-layer input and normalized. In addition, we apply dropout to the sums of the embeddings and the\n",
    "positional encodings in both the encoder and decoder stacks. For the base model, we use a rate of\n",
    "Pdrop = 0.1.\"  \n",
    "\n",
    "Warto zaznaczyć, że Dropout z prawdopodobieństwem 0.1 to w większości zastosowań wcale nie jest dużo. Niemniej już z takim niewielkim parametrem dropout okazał się bardzo istotny, gdy twórcy Wszyscy Wiemy Którego badania trenowali duże modele\n",
    "\n",
    "Jak widać dropout jest stosowany tuż przed połączeniem residual pathways (\"before it is added to the sub-layer input...\"). To oznacza, że musimy zredefiniować naszą klasę Block, znowu... Dropout należy także dodać przy obliczaniu embeddingów, zanim wrzucimy je do Blocków, więc redefiniujemy także nasz model.\n",
    "\n",
    "Od razu zaznaczę, że w tym momencie istotne jest, aby pamiętać o tym, że warstwy Dropout inaczej zachowują się, gdy model jest w trybie train() a inaczej, gdy w trybie eval()."
   ]
  },
  {
   "cell_type": "code",
   "id": "38ff5a12793f6eee",
   "metadata": {
    "ExecuteTime": {
     "end_time": "2024-12-15T12:43:22.263296Z",
     "start_time": "2024-12-15T12:34:39.490332Z"
    }
   },
   "source": [
    "class Block4(nn.Module):\n",
    "    \"\"\"Blok z dodanymi warstwami Dropout\"\"\"\n",
    "    def __init__(self, n_embd, n_head, context_size):\n",
    "        super().__init__()\n",
    "        if n_embd % n_head != 0:\n",
    "            error_msg = (f\"Class Block expected n_embd to be divisible by n_head, but got {n_embd = } and {n_head = }\"\n",
    "                         f\"which leaves remainder of {n_embd % n_head}.\")\n",
    "            raise ValueError(error_msg)\n",
    "        single_head_size = n_embd//n_head\n",
    "        self.sa = MultiHeadedAttention(n_embd, single_head_size, context_size, num_heads=n_head)\n",
    "        self.ffwd = FeedForward(n_embd)\n",
    "        self.layer_norm1 = MyLayerNorm([n_embd])\n",
    "        self.layer_norm2 = MyLayerNorm([n_embd])\n",
    "        self.drop = nn.Dropout(p=dropout)\n",
    "    def forward(self, x):\n",
    "        x = x + self.drop(self.sa(self.layer_norm1(x)))  # Res connection: x + F(x)\n",
    "        x = x + self.drop(self.ffwd(self.layer_norm2(x)))  # Res connection: x + F(x)\n",
    "        return x\n",
    "\n",
    "\n",
    "# noinspection PyPep8Naming\n",
    "class BigramModel9(nn.Module):\n",
    "    \"\"\" Dodano dynamiczne ustalanie liczby warstw Block\"\"\"\n",
    "    def __init__(self, n_embd: int, vocab_size: int, head_size):  # head size jest już nieużywany ale\n",
    "        # nie chcę modyfikować funkcji wywołujących starsze modele\n",
    "        super().__init__()\n",
    "        self.token_embedding_table = nn.Embedding(vocab_size, n_embd)\n",
    "        self.position_embedding_table = nn.Embedding(context_size, n_embd)\n",
    "        blocks_list = [Block4(n_embd, amount_of_heads, context_size) for _ in range(amount_of_blocks)]\n",
    "        blocks_list.append(MyLayerNorm([n_embd]))\n",
    "        self.blocks = nn.Sequential(*blocks_list)\n",
    "        self.model_head = nn.Linear(n_embd, vocab_size)\n",
    "        self.drop = nn.Dropout(dropout)\n",
    "        \n",
    "    def forward(self, input_indices):\n",
    "        B, T = input_indices.shape\n",
    "        token_emb = self.token_embedding_table(input_indices) # B, T, C\n",
    "        pos_emb = self.position_embedding_table(torch.arange(T, device=device)) # T, C\n",
    "        # automatyczny broadcasting pozwala dodać tensory (B,T,C) i (T,C)\n",
    "        x = token_emb + pos_emb\n",
    "        # dodajemy dropout po policzeniu sumy token embeddings i positional embeddings\n",
    "        x = self.drop(x)\n",
    "        # przeprowadzamy self-attention\n",
    "        x = self.blocks(x)\n",
    "        # dodajemy dropout przed wejściem do ostatniej warstwy Linear\n",
    "        x = self.drop(x)\n",
    "        # zamieniamy embeddingi na logity\n",
    "        logits = self.model_head(x)\n",
    "        return logits\n",
    "         \n",
    "    def generate(self, current_context: torch.Tensor, max_new_tokens: int):\n",
    "        \"\"\"\n",
    "        Metoda przyjmuje kontekst i na jego podstawie generuje `max_new_tokens` nowych tokenów.\n",
    "        :param current_context: Tensor o wymiarach (Batch, czas) gdzie 'czas' to kolejne znaki kontekstu\n",
    "        :return: Tensor o wymiarach (Batch, czas + max_new_tokens) zawierający podany kontekst, a do niego \"doklejoną\"\n",
    "            wygenerowaną treść\n",
    "        \"\"\"\n",
    "        for _ in range(max_new_tokens):\n",
    "            # korzystamy z tabeli Embeddingów, więc musimy podać co najwyżej ostatnie context_size znaków\n",
    "            logits = self(current_context[:, -context_size:])\n",
    "            logits = logits[:, -1, :]  \n",
    "            probabilities = F.softmax(logits, dim=-1)  \n",
    "            idx_next = torch.multinomial(probabilities, num_samples=1)\n",
    "            current_context = torch.cat((current_context, idx_next), dim=1) # (Batch, czas + 1)\n",
    "        return current_context\n",
    "    \n",
    "try_model_generation(BigramModel9, train_iterations=train_iterations, n_embd=embedding_size, context_size=context_size)"
   ],
   "outputs": [
    {
     "name": "stdout",
     "output_type": "stream",
     "text": [
      "Iteration 1 train loss: 3.730 | test loss: 3.752\n",
      "Iteration 301 train loss: 2.075 | test loss: 2.072\n",
      "Iteration 601 train loss: 1.711 | test loss: 1.708\n",
      "Iteration 901 train loss: 1.579 | test loss: 1.540\n",
      "Iteration 1201 train loss: 1.503 | test loss: 1.490\n",
      "Iteration 1501 train loss: 1.421 | test loss: 1.386\n",
      "Iteration 1801 train loss: 1.387 | test loss: 1.342\n",
      "Iteration 2101 train loss: 1.363 | test loss: 1.303\n",
      "Iteration 2401 train loss: 1.321 | test loss: 1.347\n",
      "Iteration 2701 train loss: 1.288 | test loss: 1.302\n",
      "Final iteration train loss: 1.281 | test loss: 1.265\n",
      "\n",
      "\n",
      "\n",
      "Generated 500 new tokens, output shape: torch.Size([628])\n",
      "--------------------\n",
      "Generated text: treet cry Romeo,\n",
      "Some Juliet, and some Paris; and all run,\n",
      "With open outcry toward our monument.\n",
      "\n",
      "PRINCE:\n",
      "What fear is this which cold it it: all.\n",
      "And lay he would my bad degarned me mine.\n",
      "To meetizens the liwe and conweeding's noble\n",
      "And help: the shorten and the brood forth, when\n",
      "When he would wit me from deed: here concrecry, and\n",
      "powerling Clown, when we do grieve them?\n",
      "Could have sent with childlows more thing.\n",
      "\n",
      "First Senator:\n",
      "Without our companess' stones! Now two have loved them;\n",
      "As he full of this point, Clarence-more with more.\n",
      "\n",
      "MERCUTIO:\n",
      "\n",
      "If we will tell me,\n",
      "Else this little's after ords, read, sir, by all\n",
      "fortun\n"
     ]
    }
   ],
   "execution_count": 195
  },
  {
   "metadata": {},
   "cell_type": "markdown",
   "source": "Teraz w kolejnym Notatniku, `GPT_inference.ipynb`, uruchomię i przetrenuję większy model.",
   "id": "7487cf0b84fa0479"
  },
  {
   "metadata": {},
   "cell_type": "code",
   "source": "",
   "id": "5d402d68ce4d5316",
   "outputs": [],
   "execution_count": null
  }
 ],
 "metadata": {
  "kernelspec": {
   "display_name": "Python 3 (ipykernel)",
   "language": "python",
   "name": "python3"
  },
  "language_info": {
   "codemirror_mode": {
    "name": "ipython",
    "version": 3
   },
   "file_extension": ".py",
   "mimetype": "text/x-python",
   "name": "python",
   "nbconvert_exporter": "python",
   "pygments_lexer": "ipython3",
   "version": "3.12.4"
  }
 },
 "nbformat": 4,
 "nbformat_minor": 5
}
